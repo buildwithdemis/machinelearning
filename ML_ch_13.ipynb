{
  "nbformat": 4,
  "nbformat_minor": 0,
  "metadata": {
    "colab": {
      "provenance": [],
      "authorship_tag": "ABX9TyNVHhP+Qi6u1ar5aJjF3ou0",
      "include_colab_link": true
    },
    "kernelspec": {
      "name": "python3",
      "display_name": "Python 3"
    },
    "language_info": {
      "name": "python"
    }
  },
  "cells": [
    {
      "cell_type": "markdown",
      "metadata": {
        "id": "view-in-github",
        "colab_type": "text"
      },
      "source": [
        "<a href=\"https://colab.research.google.com/github/buildwithdemis/machinelearning/blob/main/ML_ch_13.ipynb\" target=\"_parent\"><img src=\"https://colab.research.google.com/assets/colab-badge.svg\" alt=\"Open In Colab\"/></a>"
      ]
    },
    {
      "cell_type": "markdown",
      "source": [
        "# **Exercise: Build a simple logistic regression model**\n"
      ],
      "metadata": {
        "id": "Sny9JWj7dLtr"
      }
    },
    {
      "cell_type": "markdown",
      "source": [
        "**Classification models** are used to make decisions or assign items into categories. Unlike regression modules, which output continuous numbers such as heights or weights, classification models output Boolean values—either true or false—or categorical decisions, such as apple, banana, or cherry.\n",
        "\n",
        "There are many types of classification models. Some work similarly to classical regression models, while others are fundamentally different. One of the best models to learn initially is called logistic regression."
      ],
      "metadata": {
        "id": "Fp31RC6edbVu"
      }
    },
    {
      "cell_type": "markdown",
      "source": [
        "**What is logistic regression?**\n",
        "\n",
        "Logistic regression is a type of classification model that works similarly to linear regression. The difference between this and linear regression is the shape of the curve. While simple linear regression fits a straight line to data, logistic regression models fit an s-shaped curve:"
      ],
      "metadata": {
        "id": "LoquFaZid0wr"
      }
    },
    {
      "cell_type": "markdown",
      "source": [
        "Logistic regression is better for estimating Boolean outcomes than linear regression, because the logistic curve always produces a value between 0 (false) and 1 (true).\n",
        "\n",
        "For example, let's say we're trying to predict if an avalanche might occur today. If our logistic regression model gives us the value of 0.3, then it estimates there's a 30% probability of an avalanche."
      ],
      "metadata": {
        "id": "h89Igygwd_Wk"
      }
    },
    {
      "cell_type": "markdown",
      "source": [
        "It's notable that logistic regression doesn't have to be limited to a **true/false outcome**; you can also use it where there are three or more potential outcomes, such as rain, snow, or sun. This type of outcome requires a slightly more complex setup, called **multinomial logistic regression**."
      ],
      "metadata": {
        "id": "P-gNI8E9eaxw"
      }
    },
    {
      "cell_type": "markdown",
      "source": [
        "In this exercise, we'll fit a simple logistic regression model that will try to predict the chance of an avalanche.\n",
        "\n",
        "Recall that logistic regression fits an s-shaped curve to data, rather than a straight line, and we can use this to calculate a probability of a binary outcome."
      ],
      "metadata": {
        "id": "MaODHjPpfe9W"
      }
    },
    {
      "cell_type": "markdown",
      "source": [
        "# **Data visualization**\n",
        "\n",
        "Let's start this exercise by loading in and having a look at our data:"
      ],
      "metadata": {
        "id": "NugCs6kqfkJx"
      }
    },
    {
      "cell_type": "code",
      "execution_count": 1,
      "metadata": {
        "colab": {
          "base_uri": "https://localhost:8080/",
          "height": 995
        },
        "id": "dbaqfnwgc4gb",
        "outputId": "c654efc8-9815-4fbd-eb43-360964db2494"
      },
      "outputs": [
        {
          "output_type": "stream",
          "name": "stdout",
          "text": [
            "Requirement already satisfied: statsmodels in /usr/local/lib/python3.11/dist-packages (0.14.4)\n",
            "Requirement already satisfied: numpy<3,>=1.22.3 in /usr/local/lib/python3.11/dist-packages (from statsmodels) (2.0.2)\n",
            "Requirement already satisfied: scipy!=1.9.2,>=1.8 in /usr/local/lib/python3.11/dist-packages (from statsmodels) (1.15.3)\n",
            "Requirement already satisfied: pandas!=2.1.0,>=1.4 in /usr/local/lib/python3.11/dist-packages (from statsmodels) (2.2.2)\n",
            "Requirement already satisfied: patsy>=0.5.6 in /usr/local/lib/python3.11/dist-packages (from statsmodels) (1.0.1)\n",
            "Requirement already satisfied: packaging>=21.3 in /usr/local/lib/python3.11/dist-packages (from statsmodels) (24.2)\n",
            "Requirement already satisfied: python-dateutil>=2.8.2 in /usr/local/lib/python3.11/dist-packages (from pandas!=2.1.0,>=1.4->statsmodels) (2.9.0.post0)\n",
            "Requirement already satisfied: pytz>=2020.1 in /usr/local/lib/python3.11/dist-packages (from pandas!=2.1.0,>=1.4->statsmodels) (2025.2)\n",
            "Requirement already satisfied: tzdata>=2022.7 in /usr/local/lib/python3.11/dist-packages (from pandas!=2.1.0,>=1.4->statsmodels) (2025.2)\n",
            "Requirement already satisfied: six>=1.5 in /usr/local/lib/python3.11/dist-packages (from python-dateutil>=2.8.2->pandas!=2.1.0,>=1.4->statsmodels) (1.17.0)\n",
            "--2025-06-03 15:52:28--  https://raw.githubusercontent.com/MicrosoftDocs/mslearn-introduction-to-machine-learning/main/graphing.py\n",
            "Resolving raw.githubusercontent.com (raw.githubusercontent.com)... 185.199.108.133, 185.199.109.133, 185.199.110.133, ...\n",
            "Connecting to raw.githubusercontent.com (raw.githubusercontent.com)|185.199.108.133|:443... connected.\n",
            "HTTP request sent, awaiting response... 200 OK\n",
            "Length: 21511 (21K) [text/plain]\n",
            "Saving to: ‘graphing.py’\n",
            "\n",
            "graphing.py         100%[===================>]  21.01K  --.-KB/s    in 0.002s  \n",
            "\n",
            "2025-06-03 15:52:28 (8.48 MB/s) - ‘graphing.py’ saved [21511/21511]\n",
            "\n",
            "--2025-06-03 15:52:28--  https://raw.githubusercontent.com/MicrosoftDocs/mslearn-introduction-to-machine-learning/main/Data/avalanche.csv\n",
            "Resolving raw.githubusercontent.com (raw.githubusercontent.com)... 185.199.108.133, 185.199.109.133, 185.199.110.133, ...\n",
            "Connecting to raw.githubusercontent.com (raw.githubusercontent.com)|185.199.108.133|:443... connected.\n",
            "HTTP request sent, awaiting response... 200 OK\n",
            "Length: 56578 (55K) [text/plain]\n",
            "Saving to: ‘avalanche.csv’\n",
            "\n",
            "avalanche.csv       100%[===================>]  55.25K  --.-KB/s    in 0.01s   \n",
            "\n",
            "2025-06-03 15:52:28 (4.08 MB/s) - ‘avalanche.csv’ saved [56578/56578]\n",
            "\n"
          ]
        },
        {
          "output_type": "execute_result",
          "data": {
            "text/plain": [
              "      Unnamed: 0  avalanche  no_visitors  surface_hoar  fresh_thickness  wind  \\\n",
              "0              0          0            4      3.900508         8.715485     6   \n",
              "1              1          0            9      1.477586         6.801417    30   \n",
              "2              2          1            3      3.236594         5.632457     8   \n",
              "3              3          0            0      3.244283         9.348871    12   \n",
              "4              4          1            2      5.196741         3.782315     4   \n",
              "...          ...        ...          ...           ...              ...   ...   \n",
              "1090        1090          1            1      2.182905         6.109184     3   \n",
              "1091        1091          0            2      3.718231        10.426100    28   \n",
              "1092        1092          1            8      7.037647         9.741006    34   \n",
              "1093        1093          0            2      2.449889         7.337579    37   \n",
              "1094        1094          1            3      4.881081        10.457047     9   \n",
              "\n",
              "      weak_layers  tracked_out  \n",
              "0               9            0  \n",
              "1               0            0  \n",
              "2               8            1  \n",
              "3              10            0  \n",
              "4               9            1  \n",
              "...           ...          ...  \n",
              "1090            9            0  \n",
              "1091            0            0  \n",
              "1092            3            0  \n",
              "1093           10            1  \n",
              "1094            7            0  \n",
              "\n",
              "[1095 rows x 8 columns]"
            ],
            "text/html": [
              "\n",
              "  <div id=\"df-9756fda7-ac6d-4e9c-8b35-0ae19f6adc0e\" class=\"colab-df-container\">\n",
              "    <div>\n",
              "<style scoped>\n",
              "    .dataframe tbody tr th:only-of-type {\n",
              "        vertical-align: middle;\n",
              "    }\n",
              "\n",
              "    .dataframe tbody tr th {\n",
              "        vertical-align: top;\n",
              "    }\n",
              "\n",
              "    .dataframe thead th {\n",
              "        text-align: right;\n",
              "    }\n",
              "</style>\n",
              "<table border=\"1\" class=\"dataframe\">\n",
              "  <thead>\n",
              "    <tr style=\"text-align: right;\">\n",
              "      <th></th>\n",
              "      <th>Unnamed: 0</th>\n",
              "      <th>avalanche</th>\n",
              "      <th>no_visitors</th>\n",
              "      <th>surface_hoar</th>\n",
              "      <th>fresh_thickness</th>\n",
              "      <th>wind</th>\n",
              "      <th>weak_layers</th>\n",
              "      <th>tracked_out</th>\n",
              "    </tr>\n",
              "  </thead>\n",
              "  <tbody>\n",
              "    <tr>\n",
              "      <th>0</th>\n",
              "      <td>0</td>\n",
              "      <td>0</td>\n",
              "      <td>4</td>\n",
              "      <td>3.900508</td>\n",
              "      <td>8.715485</td>\n",
              "      <td>6</td>\n",
              "      <td>9</td>\n",
              "      <td>0</td>\n",
              "    </tr>\n",
              "    <tr>\n",
              "      <th>1</th>\n",
              "      <td>1</td>\n",
              "      <td>0</td>\n",
              "      <td>9</td>\n",
              "      <td>1.477586</td>\n",
              "      <td>6.801417</td>\n",
              "      <td>30</td>\n",
              "      <td>0</td>\n",
              "      <td>0</td>\n",
              "    </tr>\n",
              "    <tr>\n",
              "      <th>2</th>\n",
              "      <td>2</td>\n",
              "      <td>1</td>\n",
              "      <td>3</td>\n",
              "      <td>3.236594</td>\n",
              "      <td>5.632457</td>\n",
              "      <td>8</td>\n",
              "      <td>8</td>\n",
              "      <td>1</td>\n",
              "    </tr>\n",
              "    <tr>\n",
              "      <th>3</th>\n",
              "      <td>3</td>\n",
              "      <td>0</td>\n",
              "      <td>0</td>\n",
              "      <td>3.244283</td>\n",
              "      <td>9.348871</td>\n",
              "      <td>12</td>\n",
              "      <td>10</td>\n",
              "      <td>0</td>\n",
              "    </tr>\n",
              "    <tr>\n",
              "      <th>4</th>\n",
              "      <td>4</td>\n",
              "      <td>1</td>\n",
              "      <td>2</td>\n",
              "      <td>5.196741</td>\n",
              "      <td>3.782315</td>\n",
              "      <td>4</td>\n",
              "      <td>9</td>\n",
              "      <td>1</td>\n",
              "    </tr>\n",
              "    <tr>\n",
              "      <th>...</th>\n",
              "      <td>...</td>\n",
              "      <td>...</td>\n",
              "      <td>...</td>\n",
              "      <td>...</td>\n",
              "      <td>...</td>\n",
              "      <td>...</td>\n",
              "      <td>...</td>\n",
              "      <td>...</td>\n",
              "    </tr>\n",
              "    <tr>\n",
              "      <th>1090</th>\n",
              "      <td>1090</td>\n",
              "      <td>1</td>\n",
              "      <td>1</td>\n",
              "      <td>2.182905</td>\n",
              "      <td>6.109184</td>\n",
              "      <td>3</td>\n",
              "      <td>9</td>\n",
              "      <td>0</td>\n",
              "    </tr>\n",
              "    <tr>\n",
              "      <th>1091</th>\n",
              "      <td>1091</td>\n",
              "      <td>0</td>\n",
              "      <td>2</td>\n",
              "      <td>3.718231</td>\n",
              "      <td>10.426100</td>\n",
              "      <td>28</td>\n",
              "      <td>0</td>\n",
              "      <td>0</td>\n",
              "    </tr>\n",
              "    <tr>\n",
              "      <th>1092</th>\n",
              "      <td>1092</td>\n",
              "      <td>1</td>\n",
              "      <td>8</td>\n",
              "      <td>7.037647</td>\n",
              "      <td>9.741006</td>\n",
              "      <td>34</td>\n",
              "      <td>3</td>\n",
              "      <td>0</td>\n",
              "    </tr>\n",
              "    <tr>\n",
              "      <th>1093</th>\n",
              "      <td>1093</td>\n",
              "      <td>0</td>\n",
              "      <td>2</td>\n",
              "      <td>2.449889</td>\n",
              "      <td>7.337579</td>\n",
              "      <td>37</td>\n",
              "      <td>10</td>\n",
              "      <td>1</td>\n",
              "    </tr>\n",
              "    <tr>\n",
              "      <th>1094</th>\n",
              "      <td>1094</td>\n",
              "      <td>1</td>\n",
              "      <td>3</td>\n",
              "      <td>4.881081</td>\n",
              "      <td>10.457047</td>\n",
              "      <td>9</td>\n",
              "      <td>7</td>\n",
              "      <td>0</td>\n",
              "    </tr>\n",
              "  </tbody>\n",
              "</table>\n",
              "<p>1095 rows × 8 columns</p>\n",
              "</div>\n",
              "    <div class=\"colab-df-buttons\">\n",
              "\n",
              "  <div class=\"colab-df-container\">\n",
              "    <button class=\"colab-df-convert\" onclick=\"convertToInteractive('df-9756fda7-ac6d-4e9c-8b35-0ae19f6adc0e')\"\n",
              "            title=\"Convert this dataframe to an interactive table.\"\n",
              "            style=\"display:none;\">\n",
              "\n",
              "  <svg xmlns=\"http://www.w3.org/2000/svg\" height=\"24px\" viewBox=\"0 -960 960 960\">\n",
              "    <path d=\"M120-120v-720h720v720H120Zm60-500h600v-160H180v160Zm220 220h160v-160H400v160Zm0 220h160v-160H400v160ZM180-400h160v-160H180v160Zm440 0h160v-160H620v160ZM180-180h160v-160H180v160Zm440 0h160v-160H620v160Z\"/>\n",
              "  </svg>\n",
              "    </button>\n",
              "\n",
              "  <style>\n",
              "    .colab-df-container {\n",
              "      display:flex;\n",
              "      gap: 12px;\n",
              "    }\n",
              "\n",
              "    .colab-df-convert {\n",
              "      background-color: #E8F0FE;\n",
              "      border: none;\n",
              "      border-radius: 50%;\n",
              "      cursor: pointer;\n",
              "      display: none;\n",
              "      fill: #1967D2;\n",
              "      height: 32px;\n",
              "      padding: 0 0 0 0;\n",
              "      width: 32px;\n",
              "    }\n",
              "\n",
              "    .colab-df-convert:hover {\n",
              "      background-color: #E2EBFA;\n",
              "      box-shadow: 0px 1px 2px rgba(60, 64, 67, 0.3), 0px 1px 3px 1px rgba(60, 64, 67, 0.15);\n",
              "      fill: #174EA6;\n",
              "    }\n",
              "\n",
              "    .colab-df-buttons div {\n",
              "      margin-bottom: 4px;\n",
              "    }\n",
              "\n",
              "    [theme=dark] .colab-df-convert {\n",
              "      background-color: #3B4455;\n",
              "      fill: #D2E3FC;\n",
              "    }\n",
              "\n",
              "    [theme=dark] .colab-df-convert:hover {\n",
              "      background-color: #434B5C;\n",
              "      box-shadow: 0px 1px 3px 1px rgba(0, 0, 0, 0.15);\n",
              "      filter: drop-shadow(0px 1px 2px rgba(0, 0, 0, 0.3));\n",
              "      fill: #FFFFFF;\n",
              "    }\n",
              "  </style>\n",
              "\n",
              "    <script>\n",
              "      const buttonEl =\n",
              "        document.querySelector('#df-9756fda7-ac6d-4e9c-8b35-0ae19f6adc0e button.colab-df-convert');\n",
              "      buttonEl.style.display =\n",
              "        google.colab.kernel.accessAllowed ? 'block' : 'none';\n",
              "\n",
              "      async function convertToInteractive(key) {\n",
              "        const element = document.querySelector('#df-9756fda7-ac6d-4e9c-8b35-0ae19f6adc0e');\n",
              "        const dataTable =\n",
              "          await google.colab.kernel.invokeFunction('convertToInteractive',\n",
              "                                                    [key], {});\n",
              "        if (!dataTable) return;\n",
              "\n",
              "        const docLinkHtml = 'Like what you see? Visit the ' +\n",
              "          '<a target=\"_blank\" href=https://colab.research.google.com/notebooks/data_table.ipynb>data table notebook</a>'\n",
              "          + ' to learn more about interactive tables.';\n",
              "        element.innerHTML = '';\n",
              "        dataTable['output_type'] = 'display_data';\n",
              "        await google.colab.output.renderOutput(dataTable, element);\n",
              "        const docLink = document.createElement('div');\n",
              "        docLink.innerHTML = docLinkHtml;\n",
              "        element.appendChild(docLink);\n",
              "      }\n",
              "    </script>\n",
              "  </div>\n",
              "\n",
              "\n",
              "    <div id=\"df-15510985-e129-4166-ba84-74a91716b3d0\">\n",
              "      <button class=\"colab-df-quickchart\" onclick=\"quickchart('df-15510985-e129-4166-ba84-74a91716b3d0')\"\n",
              "                title=\"Suggest charts\"\n",
              "                style=\"display:none;\">\n",
              "\n",
              "<svg xmlns=\"http://www.w3.org/2000/svg\" height=\"24px\"viewBox=\"0 0 24 24\"\n",
              "     width=\"24px\">\n",
              "    <g>\n",
              "        <path d=\"M19 3H5c-1.1 0-2 .9-2 2v14c0 1.1.9 2 2 2h14c1.1 0 2-.9 2-2V5c0-1.1-.9-2-2-2zM9 17H7v-7h2v7zm4 0h-2V7h2v10zm4 0h-2v-4h2v4z\"/>\n",
              "    </g>\n",
              "</svg>\n",
              "      </button>\n",
              "\n",
              "<style>\n",
              "  .colab-df-quickchart {\n",
              "      --bg-color: #E8F0FE;\n",
              "      --fill-color: #1967D2;\n",
              "      --hover-bg-color: #E2EBFA;\n",
              "      --hover-fill-color: #174EA6;\n",
              "      --disabled-fill-color: #AAA;\n",
              "      --disabled-bg-color: #DDD;\n",
              "  }\n",
              "\n",
              "  [theme=dark] .colab-df-quickchart {\n",
              "      --bg-color: #3B4455;\n",
              "      --fill-color: #D2E3FC;\n",
              "      --hover-bg-color: #434B5C;\n",
              "      --hover-fill-color: #FFFFFF;\n",
              "      --disabled-bg-color: #3B4455;\n",
              "      --disabled-fill-color: #666;\n",
              "  }\n",
              "\n",
              "  .colab-df-quickchart {\n",
              "    background-color: var(--bg-color);\n",
              "    border: none;\n",
              "    border-radius: 50%;\n",
              "    cursor: pointer;\n",
              "    display: none;\n",
              "    fill: var(--fill-color);\n",
              "    height: 32px;\n",
              "    padding: 0;\n",
              "    width: 32px;\n",
              "  }\n",
              "\n",
              "  .colab-df-quickchart:hover {\n",
              "    background-color: var(--hover-bg-color);\n",
              "    box-shadow: 0 1px 2px rgba(60, 64, 67, 0.3), 0 1px 3px 1px rgba(60, 64, 67, 0.15);\n",
              "    fill: var(--button-hover-fill-color);\n",
              "  }\n",
              "\n",
              "  .colab-df-quickchart-complete:disabled,\n",
              "  .colab-df-quickchart-complete:disabled:hover {\n",
              "    background-color: var(--disabled-bg-color);\n",
              "    fill: var(--disabled-fill-color);\n",
              "    box-shadow: none;\n",
              "  }\n",
              "\n",
              "  .colab-df-spinner {\n",
              "    border: 2px solid var(--fill-color);\n",
              "    border-color: transparent;\n",
              "    border-bottom-color: var(--fill-color);\n",
              "    animation:\n",
              "      spin 1s steps(1) infinite;\n",
              "  }\n",
              "\n",
              "  @keyframes spin {\n",
              "    0% {\n",
              "      border-color: transparent;\n",
              "      border-bottom-color: var(--fill-color);\n",
              "      border-left-color: var(--fill-color);\n",
              "    }\n",
              "    20% {\n",
              "      border-color: transparent;\n",
              "      border-left-color: var(--fill-color);\n",
              "      border-top-color: var(--fill-color);\n",
              "    }\n",
              "    30% {\n",
              "      border-color: transparent;\n",
              "      border-left-color: var(--fill-color);\n",
              "      border-top-color: var(--fill-color);\n",
              "      border-right-color: var(--fill-color);\n",
              "    }\n",
              "    40% {\n",
              "      border-color: transparent;\n",
              "      border-right-color: var(--fill-color);\n",
              "      border-top-color: var(--fill-color);\n",
              "    }\n",
              "    60% {\n",
              "      border-color: transparent;\n",
              "      border-right-color: var(--fill-color);\n",
              "    }\n",
              "    80% {\n",
              "      border-color: transparent;\n",
              "      border-right-color: var(--fill-color);\n",
              "      border-bottom-color: var(--fill-color);\n",
              "    }\n",
              "    90% {\n",
              "      border-color: transparent;\n",
              "      border-bottom-color: var(--fill-color);\n",
              "    }\n",
              "  }\n",
              "</style>\n",
              "\n",
              "      <script>\n",
              "        async function quickchart(key) {\n",
              "          const quickchartButtonEl =\n",
              "            document.querySelector('#' + key + ' button');\n",
              "          quickchartButtonEl.disabled = true;  // To prevent multiple clicks.\n",
              "          quickchartButtonEl.classList.add('colab-df-spinner');\n",
              "          try {\n",
              "            const charts = await google.colab.kernel.invokeFunction(\n",
              "                'suggestCharts', [key], {});\n",
              "          } catch (error) {\n",
              "            console.error('Error during call to suggestCharts:', error);\n",
              "          }\n",
              "          quickchartButtonEl.classList.remove('colab-df-spinner');\n",
              "          quickchartButtonEl.classList.add('colab-df-quickchart-complete');\n",
              "        }\n",
              "        (() => {\n",
              "          let quickchartButtonEl =\n",
              "            document.querySelector('#df-15510985-e129-4166-ba84-74a91716b3d0 button');\n",
              "          quickchartButtonEl.style.display =\n",
              "            google.colab.kernel.accessAllowed ? 'block' : 'none';\n",
              "        })();\n",
              "      </script>\n",
              "    </div>\n",
              "\n",
              "  <div id=\"id_fa04de55-3c3b-4cef-b892-9e3159010d68\">\n",
              "    <style>\n",
              "      .colab-df-generate {\n",
              "        background-color: #E8F0FE;\n",
              "        border: none;\n",
              "        border-radius: 50%;\n",
              "        cursor: pointer;\n",
              "        display: none;\n",
              "        fill: #1967D2;\n",
              "        height: 32px;\n",
              "        padding: 0 0 0 0;\n",
              "        width: 32px;\n",
              "      }\n",
              "\n",
              "      .colab-df-generate:hover {\n",
              "        background-color: #E2EBFA;\n",
              "        box-shadow: 0px 1px 2px rgba(60, 64, 67, 0.3), 0px 1px 3px 1px rgba(60, 64, 67, 0.15);\n",
              "        fill: #174EA6;\n",
              "      }\n",
              "\n",
              "      [theme=dark] .colab-df-generate {\n",
              "        background-color: #3B4455;\n",
              "        fill: #D2E3FC;\n",
              "      }\n",
              "\n",
              "      [theme=dark] .colab-df-generate:hover {\n",
              "        background-color: #434B5C;\n",
              "        box-shadow: 0px 1px 3px 1px rgba(0, 0, 0, 0.15);\n",
              "        filter: drop-shadow(0px 1px 2px rgba(0, 0, 0, 0.3));\n",
              "        fill: #FFFFFF;\n",
              "      }\n",
              "    </style>\n",
              "    <button class=\"colab-df-generate\" onclick=\"generateWithVariable('dataset')\"\n",
              "            title=\"Generate code using this dataframe.\"\n",
              "            style=\"display:none;\">\n",
              "\n",
              "  <svg xmlns=\"http://www.w3.org/2000/svg\" height=\"24px\"viewBox=\"0 0 24 24\"\n",
              "       width=\"24px\">\n",
              "    <path d=\"M7,19H8.4L18.45,9,17,7.55,7,17.6ZM5,21V16.75L18.45,3.32a2,2,0,0,1,2.83,0l1.4,1.43a1.91,1.91,0,0,1,.58,1.4,1.91,1.91,0,0,1-.58,1.4L9.25,21ZM18.45,9,17,7.55Zm-12,3A5.31,5.31,0,0,0,4.9,8.1,5.31,5.31,0,0,0,1,6.5,5.31,5.31,0,0,0,4.9,4.9,5.31,5.31,0,0,0,6.5,1,5.31,5.31,0,0,0,8.1,4.9,5.31,5.31,0,0,0,12,6.5,5.46,5.46,0,0,0,6.5,12Z\"/>\n",
              "  </svg>\n",
              "    </button>\n",
              "    <script>\n",
              "      (() => {\n",
              "      const buttonEl =\n",
              "        document.querySelector('#id_fa04de55-3c3b-4cef-b892-9e3159010d68 button.colab-df-generate');\n",
              "      buttonEl.style.display =\n",
              "        google.colab.kernel.accessAllowed ? 'block' : 'none';\n",
              "\n",
              "      buttonEl.onclick = () => {\n",
              "        google.colab.notebook.generateWithVariable('dataset');\n",
              "      }\n",
              "      })();\n",
              "    </script>\n",
              "  </div>\n",
              "\n",
              "    </div>\n",
              "  </div>\n"
            ],
            "application/vnd.google.colaboratory.intrinsic+json": {
              "type": "dataframe",
              "variable_name": "dataset",
              "summary": "{\n  \"name\": \"dataset\",\n  \"rows\": 1095,\n  \"fields\": [\n    {\n      \"column\": \"Unnamed: 0\",\n      \"properties\": {\n        \"dtype\": \"number\",\n        \"std\": 316,\n        \"min\": 0,\n        \"max\": 1094,\n        \"num_unique_values\": 1095,\n        \"samples\": [\n          533,\n          139,\n          88\n        ],\n        \"semantic_type\": \"\",\n        \"description\": \"\"\n      }\n    },\n    {\n      \"column\": \"avalanche\",\n      \"properties\": {\n        \"dtype\": \"number\",\n        \"std\": 0,\n        \"min\": 0,\n        \"max\": 1,\n        \"num_unique_values\": 2,\n        \"samples\": [\n          1,\n          0\n        ],\n        \"semantic_type\": \"\",\n        \"description\": \"\"\n      }\n    },\n    {\n      \"column\": \"no_visitors\",\n      \"properties\": {\n        \"dtype\": \"number\",\n        \"std\": 2,\n        \"min\": 0,\n        \"max\": 9,\n        \"num_unique_values\": 10,\n        \"samples\": [\n          8,\n          9\n        ],\n        \"semantic_type\": \"\",\n        \"description\": \"\"\n      }\n    },\n    {\n      \"column\": \"surface_hoar\",\n      \"properties\": {\n        \"dtype\": \"number\",\n        \"std\": 2.9439912736385825,\n        \"min\": -6.177710079758436,\n        \"max\": 11.1769539681269,\n        \"num_unique_values\": 1095,\n        \"samples\": [\n          -0.2769314508615305,\n          8.794867922654944\n        ],\n        \"semantic_type\": \"\",\n        \"description\": \"\"\n      }\n    },\n    {\n      \"column\": \"fresh_thickness\",\n      \"properties\": {\n        \"dtype\": \"number\",\n        \"std\": 3.072256623576116,\n        \"min\": 0.0,\n        \"max\": 17.175829779672377,\n        \"num_unique_values\": 1095,\n        \"samples\": [\n          11.868536911988931,\n          10.73913206346658\n        ],\n        \"semantic_type\": \"\",\n        \"description\": \"\"\n      }\n    },\n    {\n      \"column\": \"wind\",\n      \"properties\": {\n        \"dtype\": \"number\",\n        \"std\": 11,\n        \"min\": 0,\n        \"max\": 40,\n        \"num_unique_values\": 41,\n        \"samples\": [\n          11,\n          13\n        ],\n        \"semantic_type\": \"\",\n        \"description\": \"\"\n      }\n    },\n    {\n      \"column\": \"weak_layers\",\n      \"properties\": {\n        \"dtype\": \"number\",\n        \"std\": 3,\n        \"min\": 0,\n        \"max\": 10,\n        \"num_unique_values\": 11,\n        \"samples\": [\n          7,\n          9\n        ],\n        \"semantic_type\": \"\",\n        \"description\": \"\"\n      }\n    },\n    {\n      \"column\": \"tracked_out\",\n      \"properties\": {\n        \"dtype\": \"number\",\n        \"std\": 0,\n        \"min\": 0,\n        \"max\": 1,\n        \"num_unique_values\": 2,\n        \"samples\": [\n          1,\n          0\n        ],\n        \"semantic_type\": \"\",\n        \"description\": \"\"\n      }\n    }\n  ]\n}"
            }
          },
          "metadata": {},
          "execution_count": 1
        }
      ],
      "source": [
        "import pandas\n",
        "!pip install statsmodels\n",
        "!wget https://raw.githubusercontent.com/MicrosoftDocs/mslearn-introduction-to-machine-learning/main/graphing.py\n",
        "!wget https://raw.githubusercontent.com/MicrosoftDocs/mslearn-introduction-to-machine-learning/main/Data/avalanche.csv\n",
        "\n",
        "#Import the data from the .csv file\n",
        "dataset = pandas.read_csv('avalanche.csv', delimiter=\"\\t\")\n",
        "\n",
        "#Let's have a look at the data\n",
        "dataset"
      ]
    },
    {
      "cell_type": "markdown",
      "source": [],
      "metadata": {
        "id": "a8Zzb1d6gLLU"
      }
    },
    {
      "cell_type": "markdown",
      "source": [
        "# **Data Exploration**\n",
        "\n",
        "The avalanche field is our target. A value of 1 means that an avalanche did occur at the conditions described by the features, whereas a value of 0 means no avalanche happened. Because our targets can only be 0 or 1, we call this a binary classification model.\n",
        "\n",
        "Now, let's plot the relationships between each feature and the target values. That helps us understand which features are more likely to influence the results:"
      ],
      "metadata": {
        "id": "JHd48TOQgYv-"
      }
    },
    {
      "cell_type": "code",
      "source": [
        "import matplotlib.pyplot as plt\n",
        "\n",
        "# Create subplots\n",
        "fig, axs = plt.subplots(2, 2)\n",
        "\n",
        "# Create box plots\n",
        "axs[0, 0].boxplot([dataset[\"avalanche\"], dataset[\"surface_hoar\"]])\n",
        "axs[0, 0].set_xticklabels(['Avalanche', 'Surface Hoar'])\n",
        "axs[0, 0].set_ylabel('Values')\n",
        "\n",
        "axs[0, 1].boxplot([dataset[\"avalanche\"], dataset[\"fresh_thickness\"]])\n",
        "axs[0, 1].set_xticklabels(['Avalanche', 'Fresh Thickness'])\n",
        "axs[0, 1].set_ylabel('Values')\n",
        "\n",
        "axs[1, 0].boxplot([dataset[\"avalanche\"], dataset[\"weak_layers\"]])\n",
        "axs[1, 0].set_xticklabels(['Avalanche', 'Weak Layers'])\n",
        "axs[1, 0].set_ylabel('Values')\n",
        "\n",
        "axs[1, 1].boxplot([dataset[\"avalanche\"], dataset[\"no_visitors\"]])\n",
        "axs[1, 1].set_xticklabels(['Avalanche', 'Visitors'])\n",
        "axs[1, 1].set_ylabel('Values')\n",
        "\n",
        "plt.tight_layout()\n",
        "\n",
        "plt.show()"
      ],
      "metadata": {
        "colab": {
          "base_uri": "https://localhost:8080/",
          "height": 487
        },
        "id": "E8OEiLuJfiy2",
        "outputId": "f3253002-e38a-4026-f9c9-3318e4feb52d"
      },
      "execution_count": 2,
      "outputs": [
        {
          "output_type": "display_data",
          "data": {
            "text/plain": [
              "<Figure size 640x480 with 4 Axes>"
            ],
            "image/png": "[encoded data removed]"
          },
          "metadata": {}
        }
      ]
    },
    {
      "cell_type": "markdown",
      "source": [
        "**We can notice that:**\n",
        "\n",
        "\n",
        "\n",
        "*   For fresh_thickness the outcomes are very similar. This means that variations in their values aren't strongly correlated with the results.\n",
        "*   Variations in values for weak_layers and no_visitors seem to correlate with a larger number of avalanche results, and thus we should assign more importance to these features.\n",
        "\n",
        "The differences between avalanche and non-avalanche days are small, and there isn't one clear driver of issues. Weak layers looks like a good starting point because it's related to the widest variation in results.\n",
        "\n",
        "\n",
        "\n",
        "\n"
      ],
      "metadata": {
        "id": "dnNOLaJdheNW"
      }
    },
    {
      "cell_type": "markdown",
      "source": [
        "# **Building a simple logistic regression model**\n",
        "\n",
        "\n",
        "We will now build and train a model to predict the chance of an avalanche happening based solely on the number of weak layers of snow:"
      ],
      "metadata": {
        "id": "66g_lH9Picoy"
      }
    },
    {
      "cell_type": "code",
      "source": [
        "# Here we import a function that splits datasets according to a given ratio\n",
        "from sklearn.model_selection import train_test_split\n",
        "\n",
        "# Split the dataset in an 70/30 train/test ratio.\n",
        "train, test = train_test_split(dataset, test_size=0.3, random_state=2)\n",
        "print(train.shape)\n",
        "print(test.shape)"
      ],
      "metadata": {
        "colab": {
          "base_uri": "https://localhost:8080/"
        },
        "id": "fLdydb2rgnuX",
        "outputId": "70e08408-5e10-4a3d-fce6-33e12ef0afa5"
      },
      "execution_count": 3,
      "outputs": [
        {
          "output_type": "stream",
          "name": "stdout",
          "text": [
            "(766, 8)\n",
            "(329, 8)\n"
          ]
        }
      ]
    },
    {
      "cell_type": "markdown",
      "source": [],
      "metadata": {
        "id": "Hk4e6Qxbi2Ms"
      }
    },
    {
      "cell_type": "markdown",
      "source": [
        "OK, lets train our model, using the train dataset we've just created (notice that weak_layers will be the only feature used to determine the outcome):"
      ],
      "metadata": {
        "id": "4GjZC2MyjCCN"
      }
    },
    {
      "cell_type": "code",
      "source": [
        "import statsmodels.formula.api as smf\n",
        "\n",
        "# Perform logistic regression.\n",
        "model = smf.logit(\"avalanche ~ weak_layers\", train).fit()\n",
        "\n",
        "print(\"Model trained\")"
      ],
      "metadata": {
        "colab": {
          "base_uri": "https://localhost:8080/"
        },
        "id": "FkLaE3XmilKt",
        "outputId": "89b48799-5a27-41cf-d223-bb11a60b0aa3"
      },
      "execution_count": 4,
      "outputs": [
        {
          "output_type": "stream",
          "name": "stdout",
          "text": [
            "Optimization terminated successfully.\n",
            "         Current function value: 0.631451\n",
            "         Iterations 5\n",
            "Model trained\n"
          ]
        }
      ]
    },
    {
      "cell_type": "markdown",
      "source": [
        "After training, we can print a model summary with very detailed information:"
      ],
      "metadata": {
        "id": "1IVdBo4ajPVh"
      }
    },
    {
      "cell_type": "code",
      "source": [
        "print(model.summary())"
      ],
      "metadata": {
        "colab": {
          "base_uri": "https://localhost:8080/"
        },
        "id": "99Hp2UvkjHYd",
        "outputId": "42722480-695b-40de-e303-ce41a3e2fddb"
      },
      "execution_count": 5,
      "outputs": [
        {
          "output_type": "stream",
          "name": "stdout",
          "text": [
            "                           Logit Regression Results                           \n",
            "==============================================================================\n",
            "Dep. Variable:              avalanche   No. Observations:                  766\n",
            "Model:                          Logit   Df Residuals:                      764\n",
            "Method:                           MLE   Df Model:                            1\n",
            "Date:                Tue, 03 Jun 2025   Pseudo R-squ.:                 0.07898\n",
            "Time:                        16:08:27   Log-Likelihood:                -483.69\n",
            "converged:                       True   LL-Null:                       -525.17\n",
            "Covariance Type:            nonrobust   LLR p-value:                 8.395e-20\n",
            "===============================================================================\n",
            "                  coef    std err          z      P>|z|      [0.025      0.975]\n",
            "-------------------------------------------------------------------------------\n",
            "Intercept      -0.8586      0.147     -5.856      0.000      -1.146      -0.571\n",
            "weak_layers     0.2241      0.026      8.648      0.000       0.173       0.275\n",
            "===============================================================================\n"
          ]
        }
      ]
    },
    {
      "cell_type": "markdown",
      "source": [
        "Notice that the positive coefficient for weak_layers means that a higher value indicates a higher likelihood for an avalanche."
      ],
      "metadata": {
        "id": "R7x6zePDjgGb"
      }
    },
    {
      "cell_type": "markdown",
      "source": [
        "# **Using our model**\n",
        "\n",
        "We can now use our trained model to make predictions and estimate probabilities.\n",
        "\n",
        "Let's pick the first four occurrences in our test set and print the probability of an avalanche for each one of them:"
      ],
      "metadata": {
        "id": "19YL16U6jk8s"
      }
    },
    {
      "cell_type": "code",
      "source": [
        "# predict to get a probability\n",
        "\n",
        "# get first 3 samples from dataset\n",
        "samples = test[\"weak_layers\"][:4]\n",
        "\n",
        "# use the model to get predictions as possibilities\n",
        "estimated_probabilities = model.predict(samples)\n",
        "\n",
        "# Print results for each sample\n",
        "for sample, pred in zip(samples,estimated_probabilities):\n",
        "    print(f\"A weak_layer with value {sample} yields a {pred * 100:.2f}% chance of an avalanche.\")\n"
      ],
      "metadata": {
        "colab": {
          "base_uri": "https://localhost:8080/"
        },
        "id": "qwI-PwDzjR0f",
        "outputId": "88a6a3ed-7c7f-406b-b8de-abf4dc34086e"
      },
      "execution_count": 6,
      "outputs": [
        {
          "output_type": "stream",
          "name": "stdout",
          "text": [
            "A weak_layer with value 5 yields a 56.51% chance of an avalanche.\n",
            "A weak_layer with value 4 yields a 50.95% chance of an avalanche.\n",
            "A weak_layer with value 7 yields a 67.05% chance of an avalanche.\n",
            "A weak_layer with value 0 yields a 29.76% chance of an avalanche.\n"
          ]
        }
      ]
    },
    {
      "cell_type": "markdown",
      "source": [
        "Let's plot out model to understand this:"
      ],
      "metadata": {
        "id": "6UfvWEzej110"
      }
    },
    {
      "cell_type": "code",
      "source": [
        "import matplotlib.pyplot as plt\n",
        "import pandas as pd\n",
        "\n",
        "predict = lambda x: model.predict(pd.DataFrame({\"weak_layers\": x}))\n",
        "\n",
        "# Generate x values\n",
        "x_values = range(-20, 40)\n",
        "y_values = predict(x_values)\n",
        "\n",
        "# Create the plot\n",
        "plt.plot(x_values, y_values, label=\"Model\")\n",
        "\n",
        "# Add labels\n",
        "plt.xlabel(\"weak_layers\")\n",
        "plt.ylabel(\"estimated probability of an avalanche\")\n",
        "plt.legend()\n",
        "\n",
        "plt.show()"
      ],
      "metadata": {
        "colab": {
          "base_uri": "https://localhost:8080/",
          "height": 450
        },
        "id": "g8R4gt1Bjpzt",
        "outputId": "3fba91d8-8f00-4002-d80a-76bb7d9b64d4"
      },
      "execution_count": 7,
      "outputs": [
        {
          "output_type": "display_data",
          "data": {
            "text/plain": [
              "<Figure size 640x480 with 1 Axes>"
            ],
            "image/png": "[encoded data removed]"
          },
          "metadata": {}
        }
      ]
    },
    {
      "cell_type": "markdown",
      "source": [
        "The line plots the function of the probability of an avalanche over the number of weak layers; Notice that the more weak layers, the more likely an avalanche will happen. This plot can look a bit confusing for two reasons.\n",
        "\n",
        "Firstly, the curve can make predictions from negative to positive infinity, but we only have data for 0 - 10 layers:"
      ],
      "metadata": {
        "id": "J1sqT3b-kQa4"
      }
    },
    {
      "cell_type": "code",
      "source": [
        "print(\"Minimum number of weak layers:\", min(train.weak_layers))\n",
        "print(\"Maximum number of weak layers:\", max(train.weak_layers))"
      ],
      "metadata": {
        "colab": {
          "base_uri": "https://localhost:8080/"
        },
        "id": "r19IdLjyj4U-",
        "outputId": "f1e28945-3279-4dbf-8ac2-6f905e16658a"
      },
      "execution_count": 8,
      "outputs": [
        {
          "output_type": "stream",
          "name": "stdout",
          "text": [
            "Minimum number of weak layers: 0\n",
            "Maximum number of weak layers: 10\n"
          ]
        }
      ]
    },
    {
      "cell_type": "markdown",
      "source": [
        "This is because logistic regression models allow predictions outside the range of values they have seen, and sometimes do so quite well.\n",
        "\n",
        "The second reason the plot is confusing is that at 0 layers, there's still some risk of an avalanche. Similarly, at 10 layers, there isn't a 100% risk of an avalanche. This is actually in line with the data:"
      ],
      "metadata": {
        "id": "UFoXSc5TkZ9q"
      }
    },
    {
      "cell_type": "code",
      "source": [
        "import numpy as np\n",
        "\n",
        "# Get actual rates of avalanches at 0 layers\n",
        "avalanche_outcomes_for_0_layers = train[train.weak_layers == 0].avalanche\n",
        "print(\"Average rate of avalanches for 0 weak layers of snow\", np.average(avalanche_outcomes_for_0_layers))\n",
        "\n",
        "# Get actual rates of avalanches at 10 layers\n",
        "avalanche_outcomes_for_10_layers = train[train.weak_layers == 10].avalanche\n",
        "print(\"Average rate of avalanches for 10 weak layers of snow\", np.average(avalanche_outcomes_for_10_layers))"
      ],
      "metadata": {
        "colab": {
          "base_uri": "https://localhost:8080/"
        },
        "id": "XHTqH21gkTTK",
        "outputId": "70b67399-d5ae-43eb-df14-2fb4f51c8a5e"
      },
      "execution_count": 9,
      "outputs": [
        {
          "output_type": "stream",
          "name": "stdout",
          "text": [
            "Average rate of avalanches for 0 weak layers of snow 0.3880597014925373\n",
            "Average rate of avalanches for 10 weak layers of snow 0.7761194029850746\n"
          ]
        }
      ]
    },
    {
      "cell_type": "markdown",
      "source": [
        "Our model is actually doing a good job! It's just that avalanches aren't only caused by weak layers of snow. If we want to do better, we probably need to think about including other information in the model."
      ],
      "metadata": {
        "id": "Ic_idAR5kuRA"
      }
    },
    {
      "cell_type": "markdown",
      "source": [
        "# **Classification or decision thresholds**\n",
        "\n",
        "To return a binary category (True = \"avalanche\", False = \"no avalanche\") we need to define a Classification Threshold value. Any probability above that threshold is returned as the positive category, whereas values below it will be returned as the negative category.\n",
        "\n",
        "Let's see what happens if set our threshold to 0.5 (meaning that our model will return True whenever it calculates a chance above 50% of an avalanche happening):"
      ],
      "metadata": {
        "id": "02v-KOSBlCLd"
      }
    },
    {
      "cell_type": "code",
      "source": [
        "# threshold to get an absolute value\n",
        "threshold = 0.5\n",
        "\n",
        "# Add classification to the samples we used before\n",
        "for sample, pred in list(zip(samples,estimated_probabilities)):\n",
        "    print(f\"A weak_layer with value {sample} yields a chance of {pred * 100:.2f}% of an avalanche. Classification = {pred > threshold}\")\n",
        "\n"
      ],
      "metadata": {
        "colab": {
          "base_uri": "https://localhost:8080/"
        },
        "id": "pxi9iBj7km7I",
        "outputId": "d5b8d8e2-43e9-452f-9ef9-65867b2deb85"
      },
      "execution_count": 10,
      "outputs": [
        {
          "output_type": "stream",
          "name": "stdout",
          "text": [
            "A weak_layer with value 5 yields a chance of 56.51% of an avalanche. Classification = True\n",
            "A weak_layer with value 4 yields a chance of 50.95% of an avalanche. Classification = True\n",
            "A weak_layer with value 7 yields a chance of 67.05% of an avalanche. Classification = True\n",
            "A weak_layer with value 0 yields a chance of 29.76% of an avalanche. Classification = False\n"
          ]
        }
      ]
    },
    {
      "cell_type": "markdown",
      "source": [
        "Note that a 0.5 threshold is just a starting point that needs to be tuned depending on the data we're trying to classify.\n",
        "\n",
        "# **Performance on test set**\n",
        "\n",
        "Now let's use our test dataset to perform a quick evaluation on how the model did. For now, we'll just look at how often we correctly predicted if there would be an avalanche or not"
      ],
      "metadata": {
        "id": "qN5UBrJ0lSL7"
      }
    },
    {
      "cell_type": "code",
      "source": [
        "# Classify the mdel predictions using the threshold\n",
        "predictions = model.predict(test) > threshold\n",
        "\n",
        "# Compare the predictions to the actual outcomes in the dataset\n",
        "accuracy = np.average(predictions == test.avalanche)\n",
        "\n",
        "# Print the evaluation\n",
        "print(f\"The model correctly predicted outcomes {accuracy * 100:.2f}% of time.\")"
      ],
      "metadata": {
        "colab": {
          "base_uri": "https://localhost:8080/"
        },
        "id": "aErSCuS_lM_y",
        "outputId": "f2d02ae4-5693-4c17-8dd1-1becc5dac4e9"
      },
      "execution_count": 11,
      "outputs": [
        {
          "output_type": "stream",
          "name": "stdout",
          "text": [
            "The model correctly predicted outcomes 65.05% of time.\n"
          ]
        }
      ]
    },
    {
      "cell_type": "markdown",
      "source": [
        "Avalanches are hard to predict, but we're doing ok. It's hard to tell exactly what kind of mistakes our model is making, though. We'll focus on this in the next exercise."
      ],
      "metadata": {
        "id": "5rdo8vtWlduv"
      }
    },
    {
      "cell_type": "markdown",
      "source": [
        "# **Summary**\n",
        "\n",
        "In this unit, we covered the following topics:\n",
        "\n",
        "\n",
        "\n",
        "*   Using Data Exploration to understand which features have a stronger correlation to the outcomes\n",
        "*   Building a simple Logistic Regression model\n",
        "*   Using the trained model to predict probabilities\n",
        "*   Using thresholds to map probabilities to binary classes\n",
        "*   How to use a test set to measure the model's performance\n",
        "\n",
        "\n",
        "\n",
        "\n",
        "\n",
        "\n",
        "\n",
        "\n",
        "\n",
        "\n"
      ],
      "metadata": {
        "id": "TEjpmlBVllco"
      }
    },
    {
      "cell_type": "code",
      "source": [],
      "metadata": {
        "id": "fqItfL8klZeO"
      },
      "execution_count": null,
      "outputs": []
    }
  ]
}