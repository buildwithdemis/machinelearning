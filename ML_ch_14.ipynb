{
  "nbformat": 4,
  "nbformat_minor": 0,
  "metadata": {
    "colab": {
      "provenance": [],
      "authorship_tag": "ABX9TyMUhKBqXokcU8ShEwOJmQT4",
      "include_colab_link": true
    },
    "kernelspec": {
      "name": "python3",
      "display_name": "Python 3"
    },
    "language_info": {
      "name": "python"
    }
  },
  "cells": [
    {
      "cell_type": "markdown",
      "metadata": {
        "id": "view-in-github",
        "colab_type": "text"
      },
      "source": [
        "<a href=\"https://colab.research.google.com/github/buildwithdemis/machinelearning/blob/main/ML_ch_14.ipynb\" target=\"_parent\"><img src=\"https://colab.research.google.com/assets/colab-badge.svg\" alt=\"Open In Colab\"/></a>"
      ]
    },
    {
      "cell_type": "markdown",
      "source": [
        "# **Exercise: Assessing a logistic regression model**"
      ],
      "metadata": {
        "id": "B5BkrYZir0L-"
      }
    },
    {
      "cell_type": "markdown",
      "source": [
        "In the previous exercise, we fit a simple logistic regression model to predict the chance of an avalanche. This time, we'll create the same model and take a deeper look at how to best understand the mistakes that it makes."
      ],
      "metadata": {
        "id": "HqPT0BHWr6pp"
      }
    },
    {
      "cell_type": "markdown",
      "source": [
        "# **Data visualization**\n",
        "\n",
        "Let's remind ourselves of our data. Remember we're planning to train a model that can predict avalanches based on the number of weak layers of snow."
      ],
      "metadata": {
        "id": "X7ZBgDpMr9Ul"
      }
    },
    {
      "cell_type": "code",
      "execution_count": 1,
      "metadata": {
        "colab": {
          "base_uri": "https://localhost:8080/",
          "height": 1000
        },
        "id": "IF5fOMWqmL37",
        "outputId": "4e04ad8f-b725-4fb9-dbc4-ed08534eb955"
      },
      "outputs": [
        {
          "output_type": "stream",
          "name": "stdout",
          "text": [
            "Requirement already satisfied: statsmodels in /usr/local/lib/python3.11/dist-packages (0.14.4)\n",
            "Requirement already satisfied: numpy<3,>=1.22.3 in /usr/local/lib/python3.11/dist-packages (from statsmodels) (2.0.2)\n",
            "Requirement already satisfied: scipy!=1.9.2,>=1.8 in /usr/local/lib/python3.11/dist-packages (from statsmodels) (1.15.3)\n",
            "Requirement already satisfied: pandas!=2.1.0,>=1.4 in /usr/local/lib/python3.11/dist-packages (from statsmodels) (2.2.2)\n",
            "Requirement already satisfied: patsy>=0.5.6 in /usr/local/lib/python3.11/dist-packages (from statsmodels) (1.0.1)\n",
            "Requirement already satisfied: packaging>=21.3 in /usr/local/lib/python3.11/dist-packages (from statsmodels) (24.2)\n",
            "Requirement already satisfied: python-dateutil>=2.8.2 in /usr/local/lib/python3.11/dist-packages (from pandas!=2.1.0,>=1.4->statsmodels) (2.9.0.post0)\n",
            "Requirement already satisfied: pytz>=2020.1 in /usr/local/lib/python3.11/dist-packages (from pandas!=2.1.0,>=1.4->statsmodels) (2025.2)\n",
            "Requirement already satisfied: tzdata>=2022.7 in /usr/local/lib/python3.11/dist-packages (from pandas!=2.1.0,>=1.4->statsmodels) (2025.2)\n",
            "Requirement already satisfied: six>=1.5 in /usr/local/lib/python3.11/dist-packages (from python-dateutil>=2.8.2->pandas!=2.1.0,>=1.4->statsmodels) (1.17.0)\n",
            "--2025-06-03 16:47:00--  https://raw.githubusercontent.com/MicrosoftDocs/mslearn-introduction-to-machine-learning/main/graphing.py\n",
            "Resolving raw.githubusercontent.com (raw.githubusercontent.com)... 185.199.111.133, 185.199.108.133, 185.199.109.133, ...\n",
            "Connecting to raw.githubusercontent.com (raw.githubusercontent.com)|185.199.111.133|:443... connected.\n",
            "HTTP request sent, awaiting response... 200 OK\n",
            "Length: 21511 (21K) [text/plain]\n",
            "Saving to: ‘graphing.py’\n",
            "\n",
            "graphing.py         100%[===================>]  21.01K  --.-KB/s    in 0.003s  \n",
            "\n",
            "2025-06-03 16:47:00 (7.78 MB/s) - ‘graphing.py’ saved [21511/21511]\n",
            "\n",
            "--2025-06-03 16:47:00--  https://raw.githubusercontent.com/MicrosoftDocs/mslearn-introduction-to-machine-learning/main/Data/avalanche.csv\n",
            "Resolving raw.githubusercontent.com (raw.githubusercontent.com)... 185.199.111.133, 185.199.108.133, 185.199.109.133, ...\n",
            "Connecting to raw.githubusercontent.com (raw.githubusercontent.com)|185.199.111.133|:443... connected.\n",
            "HTTP request sent, awaiting response... 200 OK\n",
            "Length: 56578 (55K) [text/plain]\n",
            "Saving to: ‘avalanche.csv’\n",
            "\n",
            "avalanche.csv       100%[===================>]  55.25K  --.-KB/s    in 0.02s   \n",
            "\n",
            "2025-06-03 16:47:00 (2.75 MB/s) - ‘avalanche.csv’ saved [56578/56578]\n",
            "\n",
            "   Unnamed: 0  avalanche  no_visitors  surface_hoar  fresh_thickness  wind  \\\n",
            "0           0          0            4      3.900508         8.715485     6   \n",
            "1           1          0            9      1.477586         6.801417    30   \n",
            "2           2          1            3      3.236594         5.632457     8   \n",
            "3           3          0            0      3.244283         9.348871    12   \n",
            "4           4          1            2      5.196741         3.782315     4   \n",
            "\n",
            "   weak_layers  tracked_out  \n",
            "0            9            0  \n",
            "1            0            0  \n",
            "2            8            1  \n",
            "3           10            0  \n",
            "4            9            1  \n"
          ]
        },
        {
          "output_type": "display_data",
          "data": {
            "text/plain": [
              "<Figure size 640x480 with 1 Axes>"
            ],
            "image/png": "[encoded data removed]"
          },
          "metadata": {}
        }
      ],
      "source": [
        "import pandas\n",
        "!pip install statsmodels\n",
        "!wget https://raw.githubusercontent.com/MicrosoftDocs/mslearn-introduction-to-machine-learning/main/graphing.py\n",
        "!wget https://raw.githubusercontent.com/MicrosoftDocs/mslearn-introduction-to-machine-learning/main/Data/avalanche.csv\n",
        "import matplotlib.pyplot as plt\n",
        "\n",
        "#Import the data from the .csv file\n",
        "dataset = pandas.read_csv('avalanche.csv', delimiter=\"\\t\")\n",
        "\n",
        "#Let's have a look at the data and the relationship we're going to model\n",
        "print(dataset.head())\n",
        "\n",
        "plt.boxplot([dataset[\"avalanche\"], dataset[\"weak_layers\"]])\n",
        "\n",
        "plt.xlabel(\"Avalanches, Weak Layers\")\n",
        "plt.ylabel(\"Values\")\n",
        "\n",
        "plt.show()\n"
      ]
    },
    {
      "cell_type": "markdown",
      "source": [
        "It seems that avalanches are associated with having more weak layers of snow. That said, some days many weak layers have been recorded, but no avalanche occurred. This means our model will have difficulty being extremely accurate using only this feature. Let's continue, though, and come back to this in a future exercise.\n",
        "\n",
        "Before we begin, we need to split our dataset into training and test sets. We'll train on the training set, and test on (you guessed it) the test set."
      ],
      "metadata": {
        "id": "i4JRw7HRsJ8r"
      }
    },
    {
      "cell_type": "code",
      "source": [
        "from sklearn.model_selection import train_test_split\n",
        "\n",
        "# Split the dataset in an 75/25 train/test ratio.\n",
        "train, test = train_test_split(dataset, test_size=0.25, random_state=10)\n",
        "\n",
        "print(\"Train size:\", train.shape[0])\n",
        "print(\"Test size:\", test.shape[0])"
      ],
      "metadata": {
        "colab": {
          "base_uri": "https://localhost:8080/"
        },
        "id": "hmrJqeQbsBgz",
        "outputId": "a06287de-15ed-4e34-aa91-102d4a66ce57"
      },
      "execution_count": 2,
      "outputs": [
        {
          "output_type": "stream",
          "name": "stdout",
          "text": [
            "Train size: 821\n",
            "Test size: 274\n"
          ]
        }
      ]
    },
    {
      "cell_type": "markdown",
      "source": [
        "# **Fitting a model**\n",
        "\n",
        "Let's fit a simple logistic regression model using log-loss as a cost function. This is a very standard way to fit a classification model; so standard, in fact, that we don't need to specify it at all."
      ],
      "metadata": {
        "id": "kiVILlr9sdUe"
      }
    },
    {
      "cell_type": "code",
      "source": [
        "import statsmodels.formula.api as smf\n",
        "\n",
        "# Perform logistic regression.\n",
        "model = smf.logit(\"avalanche ~ weak_layers\", train).fit()\n",
        "\n",
        "print(\"Model trained\")"
      ],
      "metadata": {
        "colab": {
          "base_uri": "https://localhost:8080/"
        },
        "id": "qAJLSF2JsYie",
        "outputId": "96f40827-e94c-4822-ca50-f960252d63b9"
      },
      "execution_count": 3,
      "outputs": [
        {
          "output_type": "stream",
          "name": "stdout",
          "text": [
            "Optimization terminated successfully.\n",
            "         Current function value: 0.616312\n",
            "         Iterations 5\n",
            "Model trained\n"
          ]
        }
      ]
    },
    {
      "cell_type": "markdown",
      "source": [
        "Assessing the model with summary information\n",
        "If we use statsmodels, we can get a detailed summary about the model by simply calling summary()"
      ],
      "metadata": {
        "id": "TjKccg5ZsmqJ"
      }
    },
    {
      "cell_type": "code",
      "source": [
        "model.summary()\n"
      ],
      "metadata": {
        "colab": {
          "base_uri": "https://localhost:8080/",
          "height": 252
        },
        "id": "6668QAl7shse",
        "outputId": "25ad95fb-237b-4798-88dc-99a5f4218864"
      },
      "execution_count": 4,
      "outputs": [
        {
          "output_type": "execute_result",
          "data": {
            "text/plain": [
              "<class 'statsmodels.iolib.summary.Summary'>\n",
              "\"\"\"\n",
              "                           Logit Regression Results                           \n",
              "==============================================================================\n",
              "Dep. Variable:              avalanche   No. Observations:                  821\n",
              "Model:                          Logit   Df Residuals:                      819\n",
              "Method:                           MLE   Df Model:                            1\n",
              "Date:                Tue, 03 Jun 2025   Pseudo R-squ.:                  0.1018\n",
              "Time:                        16:49:22   Log-Likelihood:                -505.99\n",
              "converged:                       True   LL-Null:                       -563.33\n",
              "Covariance Type:            nonrobust   LLR p-value:                 9.269e-27\n",
              "===============================================================================\n",
              "                  coef    std err          z      P>|z|      [0.025      0.975]\n",
              "-------------------------------------------------------------------------------\n",
              "Intercept      -1.0656      0.148     -7.207      0.000      -1.355      -0.776\n",
              "weak_layers     0.2643      0.026      9.985      0.000       0.212       0.316\n",
              "===============================================================================\n",
              "\"\"\""
            ],
            "text/html": [
              "<table class=\"simpletable\">\n",
              "<caption>Logit Regression Results</caption>\n",
              "<tr>\n",
              "  <th>Dep. Variable:</th>       <td>avalanche</td>    <th>  No. Observations:  </th>  <td>   821</td>  \n",
              "</tr>\n",
              "<tr>\n",
              "  <th>Model:</th>                 <td>Logit</td>      <th>  Df Residuals:      </th>  <td>   819</td>  \n",
              "</tr>\n",
              "<tr>\n",
              "  <th>Method:</th>                 <td>MLE</td>       <th>  Df Model:          </th>  <td>     1</td>  \n",
              "</tr>\n",
              "<tr>\n",
              "  <th>Date:</th>            <td>Tue, 03 Jun 2025</td> <th>  Pseudo R-squ.:     </th>  <td>0.1018</td>  \n",
              "</tr>\n",
              "<tr>\n",
              "  <th>Time:</th>                <td>16:49:22</td>     <th>  Log-Likelihood:    </th> <td> -505.99</td> \n",
              "</tr>\n",
              "<tr>\n",
              "  <th>converged:</th>             <td>True</td>       <th>  LL-Null:           </th> <td> -563.33</td> \n",
              "</tr>\n",
              "<tr>\n",
              "  <th>Covariance Type:</th>     <td>nonrobust</td>    <th>  LLR p-value:       </th> <td>9.269e-27</td>\n",
              "</tr>\n",
              "</table>\n",
              "<table class=\"simpletable\">\n",
              "<tr>\n",
              "       <td></td>          <th>coef</th>     <th>std err</th>      <th>z</th>      <th>P>|z|</th>  <th>[0.025</th>    <th>0.975]</th>  \n",
              "</tr>\n",
              "<tr>\n",
              "  <th>Intercept</th>   <td>   -1.0656</td> <td>    0.148</td> <td>   -7.207</td> <td> 0.000</td> <td>   -1.355</td> <td>   -0.776</td>\n",
              "</tr>\n",
              "<tr>\n",
              "  <th>weak_layers</th> <td>    0.2643</td> <td>    0.026</td> <td>    9.985</td> <td> 0.000</td> <td>    0.212</td> <td>    0.316</td>\n",
              "</tr>\n",
              "</table>"
            ],
            "text/latex": "\\begin{center}\n\\begin{tabular}{lclc}\n\\toprule\n\\textbf{Dep. Variable:}   &    avalanche     & \\textbf{  No. Observations:  } &      821    \\\\\n\\textbf{Model:}           &      Logit       & \\textbf{  Df Residuals:      } &      819    \\\\\n\\textbf{Method:}          &       MLE        & \\textbf{  Df Model:          } &        1    \\\\\n\\textbf{Date:}            & Tue, 03 Jun 2025 & \\textbf{  Pseudo R-squ.:     } &   0.1018    \\\\\n\\textbf{Time:}            &     16:49:22     & \\textbf{  Log-Likelihood:    } &   -505.99   \\\\\n\\textbf{converged:}       &       True       & \\textbf{  LL-Null:           } &   -563.33   \\\\\n\\textbf{Covariance Type:} &    nonrobust     & \\textbf{  LLR p-value:       } & 9.269e-27   \\\\\n\\bottomrule\n\\end{tabular}\n\\begin{tabular}{lcccccc}\n                      & \\textbf{coef} & \\textbf{std err} & \\textbf{z} & \\textbf{P$> |$z$|$} & \\textbf{[0.025} & \\textbf{0.975]}  \\\\\n\\midrule\n\\textbf{Intercept}    &      -1.0656  &        0.148     &    -7.207  &         0.000        &       -1.355    &       -0.776     \\\\\n\\textbf{weak\\_layers} &       0.2643  &        0.026     &     9.985  &         0.000        &        0.212    &        0.316     \\\\\n\\bottomrule\n\\end{tabular}\n%\\caption{Logit Regression Results}\n\\end{center}"
          },
          "metadata": {},
          "execution_count": 4
        }
      ]
    },
    {
      "cell_type": "markdown",
      "source": [
        "**This summary provides some detailed information.**\n",
        "\n",
        "Two useful pieces of information are in the bottom row. The coef for weak_layers is positive, which means that as weak_layers increases, so does the probability of an avalanche. The P value column is less than 0.05, which means the model is confident that weak_layers is a useful predictor of avalanches.\n",
        "\n",
        "The rest of this table, however, is difficult to understand for beginners, and so it's not clear how well our model is working. Let's try another way."
      ],
      "metadata": {
        "id": "i6qosFxWstga"
      }
    },
    {
      "cell_type": "markdown",
      "source": [
        "# **Assessing model visually**\n",
        "\n",
        "Sometimes, but not always, we can visually assess a logistic regression mode. Let's plot our model against the actual data in the test dataset."
      ],
      "metadata": {
        "id": "Hrq650y4syj1"
      }
    },
    {
      "cell_type": "code",
      "source": [
        "import matplotlib.pyplot as plt\n",
        "import pandas as pd\n",
        "\n",
        "def predict(weak_layers):\n",
        "    return model.predict(pd.DataFrame({\"weak_layers\": weak_layers}))\n",
        "\n",
        "plt.scatter(test['weak_layers'], test['avalanche'])\n",
        "\n",
        "trendline_values = predict(test['weak_layers'])\n",
        "plt.plot(test['weak_layers'], trendline_values, color='red', label=\"Trendline\")\n",
        "\n",
        "plt.xlabel(\"weak_layers\")\n",
        "plt.ylabel(\"avalanche\")\n",
        "plt.legend()\n",
        "\n",
        "plt.show()"
      ],
      "metadata": {
        "colab": {
          "base_uri": "https://localhost:8080/",
          "height": 450
        },
        "id": "X97f-EAqspNr",
        "outputId": "80b37d8c-bcb5-4096-cf1a-2501174195ba"
      },
      "execution_count": 5,
      "outputs": [
        {
          "output_type": "display_data",
          "data": {
            "text/plain": [
              "<Figure size 640x480 with 1 Axes>"
            ],
            "image/png": "[encoded data removed]"
          },
          "metadata": {}
        }
      ]
    },
    {
      "cell_type": "markdown",
      "source": [
        "It's hard to see the s-shape of the trendline, because the number of weak layers of snow, and the likelihood of an avalanche, are only weakly related. If we zoom out, we can get a slightly better view:"
      ],
      "metadata": {
        "id": "9CBHY9cHs-e5"
      }
    },
    {
      "cell_type": "code",
      "source": [
        "\n",
        "def predict(weak_layers):\n",
        "    return model.predict(pd.DataFrame({\"weak_layers\": weak_layers}))\n",
        "\n",
        "\n",
        "plt.scatter(test['weak_layers'], test['avalanche'])\n",
        "trendline_values = predict(test['weak_layers'])\n",
        "plt.plot(test['weak_layers'], trendline_values, color='red', label=\"Trendline\")\n",
        "plt.xlim(-20, 20)\n",
        "plt.xlabel(\"weak_layers\")\n",
        "plt.ylabel(\"avalanche\")\n",
        "plt.legend()\n",
        "\n",
        "plt.show()"
      ],
      "metadata": {
        "colab": {
          "base_uri": "https://localhost:8080/",
          "height": 450
        },
        "id": "TUc8LndBs2gr",
        "outputId": "11f29bef-62e5-4f4d-93f5-17ac5c8be97d"
      },
      "execution_count": 6,
      "outputs": [
        {
          "output_type": "display_data",
          "data": {
            "text/plain": [
              "<Figure size 640x480 with 1 Axes>"
            ],
            "image/png": "[encoded data removed]"
          },
          "metadata": {}
        }
      ]
    },
    {
      "cell_type": "markdown",
      "source": [
        "Checking the earlier graph, we can see that our model will predict an avalanche when the number of weak layers of snow is greater than 5. We can tell this because the value of the line is 0.5 at x=5 (remember that in the previous unit we defined a classifier threshold, so that probabilities over 0.5 would be classified as True).\n",
        "\n",
        "How this relates with points is hard to tell; the points overlap, and so it's difficult to see how many points are at 0 or at 1. How else can we assess the model?"
      ],
      "metadata": {
        "id": "S0Dlrz6ttWjc"
      }
    },
    {
      "cell_type": "markdown",
      "source": [
        "# **Assess with cost function**\n",
        "\n",
        "Let's assess our model with a log-loss cost function."
      ],
      "metadata": {
        "id": "787-wig5tg4d"
      }
    },
    {
      "cell_type": "code",
      "source": [
        "from sklearn.metrics import log_loss\n",
        "\n",
        "# Make predictions from the test set\n",
        "predictions = model.predict(test)\n",
        "\n",
        "# Calculate log loss\n",
        "print(\"Log loss\", log_loss(test.avalanche, predictions))"
      ],
      "metadata": {
        "colab": {
          "base_uri": "https://localhost:8080/"
        },
        "id": "ouI5UuNNtBC5",
        "outputId": "bafa4b8d-cd12-4c3b-a2bf-0c6ac51b8178"
      },
      "execution_count": 7,
      "outputs": [
        {
          "output_type": "stream",
          "name": "stdout",
          "text": [
            "Log loss 0.6803588691541006\n"
          ]
        }
      ]
    },
    {
      "cell_type": "markdown",
      "source": [
        "0.68; what does that mean? This could be useful to compare two different models, but it's hard to get a grasp on exactly what this means for real-world performance.\n",
        "\n",
        "# **Assess accuracy**\n",
        "Let's instead assess accuracy. Accuracy refers to the proportion of predictions the model got correct, after predictions are converted from probabilities to avalanche or no-avalanche.\n",
        "\n",
        "The first thing to do is convert probabilities to hard predictions:"
      ],
      "metadata": {
        "id": "6s_rKQZptpZS"
      }
    },
    {
      "cell_type": "code",
      "source": [
        "import numpy\n",
        "\n",
        "# Print a few predictions before we convert them to categories\n",
        "print(f\"First three predictions (probabilities): {predictions.iloc[0]}, {predictions.iloc[1]}, {predictions.iloc[2]}\")\n",
        "\n",
        "# convert to absolute values\n",
        "avalanche_predicted = predictions >= 0.5\n",
        "\n",
        "# Print a few predictions converted into categories\n",
        "print(f\"First three predictions (categories): {avalanche_predicted.iloc[0]}, {avalanche_predicted.iloc[1]}, {avalanche_predicted.iloc[2]}\")"
      ],
      "metadata": {
        "colab": {
          "base_uri": "https://localhost:8080/"
        },
        "id": "0ce5iSNYtk7X",
        "outputId": "e296e28a-b96c-44c7-8f18-57f0ad4a203d"
      },
      "execution_count": 8,
      "outputs": [
        {
          "output_type": "stream",
          "name": "stdout",
          "text": [
            "First three predictions (probabilities): 0.788017694282122, 0.6866335148335762, 0.5636126304803127\n",
            "First three predictions (categories): True, True, True\n"
          ]
        }
      ]
    },
    {
      "cell_type": "markdown",
      "source": [
        "Now we can calculate accuracy:"
      ],
      "metadata": {
        "id": "MvNWDPMFt2rg"
      }
    },
    {
      "cell_type": "code",
      "source": [
        "# Calculate what proportion were predicted correctly\n",
        "guess_was_correct = test.avalanche == avalanche_predicted\n",
        "accuracy = numpy.average(guess_was_correct)\n",
        "\n",
        "# Print the accuracy\n",
        "print(\"Accuracy for whole test dataset:\", accuracy)"
      ],
      "metadata": {
        "colab": {
          "base_uri": "https://localhost:8080/"
        },
        "id": "y9bOTYmStuqW",
        "outputId": "063da94c-2c47-4fee-aadf-61d8c6062270"
      },
      "execution_count": 9,
      "outputs": [
        {
          "output_type": "stream",
          "name": "stdout",
          "text": [
            "Accuracy for whole test dataset: 0.6167883211678832\n"
          ]
        }
      ]
    },
    {
      "cell_type": "markdown",
      "source": [
        "It looks like it's predicting the correct answer 61% of the time. This is helpful information. What kind of mistakes is it making, though? Let's take a look at whether it is guessing avalanche when there are none (false positives), or failing to guess 'avalanche' when one actually occurs (false negative):"
      ],
      "metadata": {
        "id": "49ps8V67t91T"
      }
    },
    {
      "cell_type": "code",
      "source": [
        "# False Negative: calculate how often it guessed no avalanche when one actually occurred\n",
        "false_negative = numpy.average(numpy.logical_not(guess_was_correct) & test.avalanche)\n",
        "\n",
        "# False positive: calculate how often it guessed avalanche, when none actually happened\n",
        "false_positive = numpy.average(numpy.logical_not(guess_was_correct) & numpy.logical_not(test.avalanche))\n",
        "\n",
        "\n",
        "print(f\"Incorrectly predicted an avalanche {false_positive * 100}% of the time\")\n",
        "print(f\"Failed to predict avalanches {false_negative * 100}% of the time\")"
      ],
      "metadata": {
        "colab": {
          "base_uri": "https://localhost:8080/"
        },
        "id": "6yPkgD3Wt7Td",
        "outputId": "28157c5b-3465-4048-e495-d53b2e93eb0e"
      },
      "execution_count": 10,
      "outputs": [
        {
          "output_type": "stream",
          "name": "stdout",
          "text": [
            "Incorrectly predicted an avalanche 17.153284671532848% of the time\n",
            "Failed to predict avalanches 21.16788321167883% of the time\n"
          ]
        }
      ]
    },
    {
      "cell_type": "markdown",
      "source": [
        "I think we can agree that's a lot more understandable than reading the cost function or the graph!\n",
        "\n",
        "# **Summary**\n",
        "\n",
        "We've walked through different ways to assess a logistic regression model. We've seen that detailed summaries can provide rich information, but this can be difficult to digest. Metrics for these kinds of models also aren't necessarily intuitive or detailed enough to understand the model. With a little extra work, we can look at actual predictions versus actual outcomes and get an intuition for how the model might work in the real world."
      ],
      "metadata": {
        "id": "_4Oq3zT4uOrt"
      }
    },
    {
      "cell_type": "code",
      "source": [],
      "metadata": {
        "id": "THsht1OCuJS-"
      },
      "execution_count": null,
      "outputs": []
    }
  ]
}