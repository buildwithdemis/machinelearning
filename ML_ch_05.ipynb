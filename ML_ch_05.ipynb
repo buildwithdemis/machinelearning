{
  "nbformat": 4,
  "nbformat_minor": 0,
  "metadata": {
    "colab": {
      "provenance": [],
      "authorship_tag": "ABX9TyPmwL7xjskqN6cp4rNZqhiq",
      "include_colab_link": true
    },
    "kernelspec": {
      "name": "python3",
      "display_name": "Python 3"
    },
    "language_info": {
      "name": "python"
    }
  },
  "cells": [
    {
      "cell_type": "markdown",
      "metadata": {
        "id": "view-in-github",
        "colab_type": "text"
      },
      "source": [
        "<a href=\"https://colab.research.google.com/github/buildwithdemis/machinelearning/blob/main/ML_ch_05.ipynb\" target=\"_parent\"><img src=\"https://colab.research.google.com/assets/colab-badge.svg\" alt=\"Open In Colab\"/></a>"
      ]
    },
    {
      "cell_type": "markdown",
      "source": [
        "**Exercise:** Supervised learning by using different cost functions"
      ],
      "metadata": {
        "id": "7_7Zcy2-fNN2"
      }
    },
    {
      "cell_type": "markdown",
      "source": [
        "In this exercise, we'll take a deeper look at how cost functions can change:\n",
        "\n",
        "How well models appear to have fit data\n",
        "\n",
        "The kinds of relationships a model represents"
      ],
      "metadata": {
        "id": "zPQ6gvRofZE5"
      }
    },
    {
      "cell_type": "code",
      "execution_count": 1,
      "metadata": {
        "colab": {
          "base_uri": "https://localhost:8080/",
          "height": 693
        },
        "id": "Zj7vB--qfIyO",
        "outputId": "7d8bc87a-b65c-49e7-e0e0-df37e4c53067"
      },
      "outputs": [
        {
          "output_type": "stream",
          "name": "stdout",
          "text": [
            "--2025-06-02 16:33:48--  https://raw.githubusercontent.com/MicrosoftDocs/mslearn-introduction-to-machine-learning/main/microsoft_custom_linear_regressor.py\n",
            "Resolving raw.githubusercontent.com (raw.githubusercontent.com)... 185.199.109.133, 185.199.110.133, 185.199.108.133, ...\n",
            "Connecting to raw.githubusercontent.com (raw.githubusercontent.com)|185.199.109.133|:443... connected.\n",
            "HTTP request sent, awaiting response... 200 OK\n",
            "Length: 2167 (2.1K) [text/plain]\n",
            "Saving to: ‘microsoft_custom_linear_regressor.py’\n",
            "\n",
            "microsoft_custom_li 100%[===================>]   2.12K  --.-KB/s    in 0s      \n",
            "\n",
            "2025-06-02 16:33:48 (32.2 MB/s) - ‘microsoft_custom_linear_regressor.py’ saved [2167/2167]\n",
            "\n",
            "--2025-06-02 16:33:48--  https://raw.githubusercontent.com/MicrosoftDocs/mslearn-introduction-to-machine-learning/main/Data/seattleWeather_1948-2017.csv\n",
            "Resolving raw.githubusercontent.com (raw.githubusercontent.com)... 185.199.108.133, 185.199.109.133, 185.199.110.133, ...\n",
            "Connecting to raw.githubusercontent.com (raw.githubusercontent.com)|185.199.108.133|:443... connected.\n",
            "HTTP request sent, awaiting response... 200 OK\n",
            "Length: 762017 (744K) [text/plain]\n",
            "Saving to: ‘seattleWeather_1948-2017.csv’\n",
            "\n",
            "seattleWeather_1948 100%[===================>] 744.16K  --.-KB/s    in 0.07s   \n",
            "\n",
            "2025-06-02 16:33:49 (9.93 MB/s) - ‘seattleWeather_1948-2017.csv’ saved [762017/762017]\n",
            "\n"
          ]
        },
        {
          "output_type": "execute_result",
          "data": {
            "text/plain": [
              "            date  amount_of_precipitation  max_temperature  min_temperature  \\\n",
              "762   1950-02-01                     0.00               27                1   \n",
              "4414  1960-02-01                     0.15               52               44   \n",
              "8067  1970-02-01                     0.00               50               42   \n",
              "11719 1980-02-01                     0.37               54               36   \n",
              "15372 1990-02-01                     0.08               45               37   \n",
              "19024 2000-02-01                     1.34               49               41   \n",
              "22677 2010-02-01                     0.08               49               40   \n",
              "25234 2017-02-01                     0.00               43               29   \n",
              "\n",
              "        rain         year  \n",
              "762    False  1950.087611  \n",
              "4414    True  1960.087611  \n",
              "8067   False  1970.087611  \n",
              "11719   True  1980.087611  \n",
              "15372   True  1990.087611  \n",
              "19024   True  2000.087611  \n",
              "22677   True  2010.087611  \n",
              "25234  False  2017.087611  "
            ],
            "text/html": [
              "\n",
              "  <div id=\"df-e026d4d9-4473-44fb-b716-4c0b60344fa4\" class=\"colab-df-container\">\n",
              "    <div>\n",
              "<style scoped>\n",
              "    .dataframe tbody tr th:only-of-type {\n",
              "        vertical-align: middle;\n",
              "    }\n",
              "\n",
              "    .dataframe tbody tr th {\n",
              "        vertical-align: top;\n",
              "    }\n",
              "\n",
              "    .dataframe thead th {\n",
              "        text-align: right;\n",
              "    }\n",
              "</style>\n",
              "<table border=\"1\" class=\"dataframe\">\n",
              "  <thead>\n",
              "    <tr style=\"text-align: right;\">\n",
              "      <th></th>\n",
              "      <th>date</th>\n",
              "      <th>amount_of_precipitation</th>\n",
              "      <th>max_temperature</th>\n",
              "      <th>min_temperature</th>\n",
              "      <th>rain</th>\n",
              "      <th>year</th>\n",
              "    </tr>\n",
              "  </thead>\n",
              "  <tbody>\n",
              "    <tr>\n",
              "      <th>762</th>\n",
              "      <td>1950-02-01</td>\n",
              "      <td>0.00</td>\n",
              "      <td>27</td>\n",
              "      <td>1</td>\n",
              "      <td>False</td>\n",
              "      <td>1950.087611</td>\n",
              "    </tr>\n",
              "    <tr>\n",
              "      <th>4414</th>\n",
              "      <td>1960-02-01</td>\n",
              "      <td>0.15</td>\n",
              "      <td>52</td>\n",
              "      <td>44</td>\n",
              "      <td>True</td>\n",
              "      <td>1960.087611</td>\n",
              "    </tr>\n",
              "    <tr>\n",
              "      <th>8067</th>\n",
              "      <td>1970-02-01</td>\n",
              "      <td>0.00</td>\n",
              "      <td>50</td>\n",
              "      <td>42</td>\n",
              "      <td>False</td>\n",
              "      <td>1970.087611</td>\n",
              "    </tr>\n",
              "    <tr>\n",
              "      <th>11719</th>\n",
              "      <td>1980-02-01</td>\n",
              "      <td>0.37</td>\n",
              "      <td>54</td>\n",
              "      <td>36</td>\n",
              "      <td>True</td>\n",
              "      <td>1980.087611</td>\n",
              "    </tr>\n",
              "    <tr>\n",
              "      <th>15372</th>\n",
              "      <td>1990-02-01</td>\n",
              "      <td>0.08</td>\n",
              "      <td>45</td>\n",
              "      <td>37</td>\n",
              "      <td>True</td>\n",
              "      <td>1990.087611</td>\n",
              "    </tr>\n",
              "    <tr>\n",
              "      <th>19024</th>\n",
              "      <td>2000-02-01</td>\n",
              "      <td>1.34</td>\n",
              "      <td>49</td>\n",
              "      <td>41</td>\n",
              "      <td>True</td>\n",
              "      <td>2000.087611</td>\n",
              "    </tr>\n",
              "    <tr>\n",
              "      <th>22677</th>\n",
              "      <td>2010-02-01</td>\n",
              "      <td>0.08</td>\n",
              "      <td>49</td>\n",
              "      <td>40</td>\n",
              "      <td>True</td>\n",
              "      <td>2010.087611</td>\n",
              "    </tr>\n",
              "    <tr>\n",
              "      <th>25234</th>\n",
              "      <td>2017-02-01</td>\n",
              "      <td>0.00</td>\n",
              "      <td>43</td>\n",
              "      <td>29</td>\n",
              "      <td>False</td>\n",
              "      <td>2017.087611</td>\n",
              "    </tr>\n",
              "  </tbody>\n",
              "</table>\n",
              "</div>\n",
              "    <div class=\"colab-df-buttons\">\n",
              "\n",
              "  <div class=\"colab-df-container\">\n",
              "    <button class=\"colab-df-convert\" onclick=\"convertToInteractive('df-e026d4d9-4473-44fb-b716-4c0b60344fa4')\"\n",
              "            title=\"Convert this dataframe to an interactive table.\"\n",
              "            style=\"display:none;\">\n",
              "\n",
              "  <svg xmlns=\"http://www.w3.org/2000/svg\" height=\"24px\" viewBox=\"0 -960 960 960\">\n",
              "    <path d=\"M120-120v-720h720v720H120Zm60-500h600v-160H180v160Zm220 220h160v-160H400v160Zm0 220h160v-160H400v160ZM180-400h160v-160H180v160Zm440 0h160v-160H620v160ZM180-180h160v-160H180v160Zm440 0h160v-160H620v160Z\"/>\n",
              "  </svg>\n",
              "    </button>\n",
              "\n",
              "  <style>\n",
              "    .colab-df-container {\n",
              "      display:flex;\n",
              "      gap: 12px;\n",
              "    }\n",
              "\n",
              "    .colab-df-convert {\n",
              "      background-color: #E8F0FE;\n",
              "      border: none;\n",
              "      border-radius: 50%;\n",
              "      cursor: pointer;\n",
              "      display: none;\n",
              "      fill: #1967D2;\n",
              "      height: 32px;\n",
              "      padding: 0 0 0 0;\n",
              "      width: 32px;\n",
              "    }\n",
              "\n",
              "    .colab-df-convert:hover {\n",
              "      background-color: #E2EBFA;\n",
              "      box-shadow: 0px 1px 2px rgba(60, 64, 67, 0.3), 0px 1px 3px 1px rgba(60, 64, 67, 0.15);\n",
              "      fill: #174EA6;\n",
              "    }\n",
              "\n",
              "    .colab-df-buttons div {\n",
              "      margin-bottom: 4px;\n",
              "    }\n",
              "\n",
              "    [theme=dark] .colab-df-convert {\n",
              "      background-color: #3B4455;\n",
              "      fill: #D2E3FC;\n",
              "    }\n",
              "\n",
              "    [theme=dark] .colab-df-convert:hover {\n",
              "      background-color: #434B5C;\n",
              "      box-shadow: 0px 1px 3px 1px rgba(0, 0, 0, 0.15);\n",
              "      filter: drop-shadow(0px 1px 2px rgba(0, 0, 0, 0.3));\n",
              "      fill: #FFFFFF;\n",
              "    }\n",
              "  </style>\n",
              "\n",
              "    <script>\n",
              "      const buttonEl =\n",
              "        document.querySelector('#df-e026d4d9-4473-44fb-b716-4c0b60344fa4 button.colab-df-convert');\n",
              "      buttonEl.style.display =\n",
              "        google.colab.kernel.accessAllowed ? 'block' : 'none';\n",
              "\n",
              "      async function convertToInteractive(key) {\n",
              "        const element = document.querySelector('#df-e026d4d9-4473-44fb-b716-4c0b60344fa4');\n",
              "        const dataTable =\n",
              "          await google.colab.kernel.invokeFunction('convertToInteractive',\n",
              "                                                    [key], {});\n",
              "        if (!dataTable) return;\n",
              "\n",
              "        const docLinkHtml = 'Like what you see? Visit the ' +\n",
              "          '<a target=\"_blank\" href=https://colab.research.google.com/notebooks/data_table.ipynb>data table notebook</a>'\n",
              "          + ' to learn more about interactive tables.';\n",
              "        element.innerHTML = '';\n",
              "        dataTable['output_type'] = 'display_data';\n",
              "        await google.colab.output.renderOutput(dataTable, element);\n",
              "        const docLink = document.createElement('div');\n",
              "        docLink.innerHTML = docLinkHtml;\n",
              "        element.appendChild(docLink);\n",
              "      }\n",
              "    </script>\n",
              "  </div>\n",
              "\n",
              "\n",
              "    <div id=\"df-04bd53a7-2140-4ed0-86ff-94deaeef24f0\">\n",
              "      <button class=\"colab-df-quickchart\" onclick=\"quickchart('df-04bd53a7-2140-4ed0-86ff-94deaeef24f0')\"\n",
              "                title=\"Suggest charts\"\n",
              "                style=\"display:none;\">\n",
              "\n",
              "<svg xmlns=\"http://www.w3.org/2000/svg\" height=\"24px\"viewBox=\"0 0 24 24\"\n",
              "     width=\"24px\">\n",
              "    <g>\n",
              "        <path d=\"M19 3H5c-1.1 0-2 .9-2 2v14c0 1.1.9 2 2 2h14c1.1 0 2-.9 2-2V5c0-1.1-.9-2-2-2zM9 17H7v-7h2v7zm4 0h-2V7h2v10zm4 0h-2v-4h2v4z\"/>\n",
              "    </g>\n",
              "</svg>\n",
              "      </button>\n",
              "\n",
              "<style>\n",
              "  .colab-df-quickchart {\n",
              "      --bg-color: #E8F0FE;\n",
              "      --fill-color: #1967D2;\n",
              "      --hover-bg-color: #E2EBFA;\n",
              "      --hover-fill-color: #174EA6;\n",
              "      --disabled-fill-color: #AAA;\n",
              "      --disabled-bg-color: #DDD;\n",
              "  }\n",
              "\n",
              "  [theme=dark] .colab-df-quickchart {\n",
              "      --bg-color: #3B4455;\n",
              "      --fill-color: #D2E3FC;\n",
              "      --hover-bg-color: #434B5C;\n",
              "      --hover-fill-color: #FFFFFF;\n",
              "      --disabled-bg-color: #3B4455;\n",
              "      --disabled-fill-color: #666;\n",
              "  }\n",
              "\n",
              "  .colab-df-quickchart {\n",
              "    background-color: var(--bg-color);\n",
              "    border: none;\n",
              "    border-radius: 50%;\n",
              "    cursor: pointer;\n",
              "    display: none;\n",
              "    fill: var(--fill-color);\n",
              "    height: 32px;\n",
              "    padding: 0;\n",
              "    width: 32px;\n",
              "  }\n",
              "\n",
              "  .colab-df-quickchart:hover {\n",
              "    background-color: var(--hover-bg-color);\n",
              "    box-shadow: 0 1px 2px rgba(60, 64, 67, 0.3), 0 1px 3px 1px rgba(60, 64, 67, 0.15);\n",
              "    fill: var(--button-hover-fill-color);\n",
              "  }\n",
              "\n",
              "  .colab-df-quickchart-complete:disabled,\n",
              "  .colab-df-quickchart-complete:disabled:hover {\n",
              "    background-color: var(--disabled-bg-color);\n",
              "    fill: var(--disabled-fill-color);\n",
              "    box-shadow: none;\n",
              "  }\n",
              "\n",
              "  .colab-df-spinner {\n",
              "    border: 2px solid var(--fill-color);\n",
              "    border-color: transparent;\n",
              "    border-bottom-color: var(--fill-color);\n",
              "    animation:\n",
              "      spin 1s steps(1) infinite;\n",
              "  }\n",
              "\n",
              "  @keyframes spin {\n",
              "    0% {\n",
              "      border-color: transparent;\n",
              "      border-bottom-color: var(--fill-color);\n",
              "      border-left-color: var(--fill-color);\n",
              "    }\n",
              "    20% {\n",
              "      border-color: transparent;\n",
              "      border-left-color: var(--fill-color);\n",
              "      border-top-color: var(--fill-color);\n",
              "    }\n",
              "    30% {\n",
              "      border-color: transparent;\n",
              "      border-left-color: var(--fill-color);\n",
              "      border-top-color: var(--fill-color);\n",
              "      border-right-color: var(--fill-color);\n",
              "    }\n",
              "    40% {\n",
              "      border-color: transparent;\n",
              "      border-right-color: var(--fill-color);\n",
              "      border-top-color: var(--fill-color);\n",
              "    }\n",
              "    60% {\n",
              "      border-color: transparent;\n",
              "      border-right-color: var(--fill-color);\n",
              "    }\n",
              "    80% {\n",
              "      border-color: transparent;\n",
              "      border-right-color: var(--fill-color);\n",
              "      border-bottom-color: var(--fill-color);\n",
              "    }\n",
              "    90% {\n",
              "      border-color: transparent;\n",
              "      border-bottom-color: var(--fill-color);\n",
              "    }\n",
              "  }\n",
              "</style>\n",
              "\n",
              "      <script>\n",
              "        async function quickchart(key) {\n",
              "          const quickchartButtonEl =\n",
              "            document.querySelector('#' + key + ' button');\n",
              "          quickchartButtonEl.disabled = true;  // To prevent multiple clicks.\n",
              "          quickchartButtonEl.classList.add('colab-df-spinner');\n",
              "          try {\n",
              "            const charts = await google.colab.kernel.invokeFunction(\n",
              "                'suggestCharts', [key], {});\n",
              "          } catch (error) {\n",
              "            console.error('Error during call to suggestCharts:', error);\n",
              "          }\n",
              "          quickchartButtonEl.classList.remove('colab-df-spinner');\n",
              "          quickchartButtonEl.classList.add('colab-df-quickchart-complete');\n",
              "        }\n",
              "        (() => {\n",
              "          let quickchartButtonEl =\n",
              "            document.querySelector('#df-04bd53a7-2140-4ed0-86ff-94deaeef24f0 button');\n",
              "          quickchartButtonEl.style.display =\n",
              "            google.colab.kernel.accessAllowed ? 'block' : 'none';\n",
              "        })();\n",
              "      </script>\n",
              "    </div>\n",
              "\n",
              "  <div id=\"id_cc4bb5ff-76bc-4eb7-a858-eb1a499d9388\">\n",
              "    <style>\n",
              "      .colab-df-generate {\n",
              "        background-color: #E8F0FE;\n",
              "        border: none;\n",
              "        border-radius: 50%;\n",
              "        cursor: pointer;\n",
              "        display: none;\n",
              "        fill: #1967D2;\n",
              "        height: 32px;\n",
              "        padding: 0 0 0 0;\n",
              "        width: 32px;\n",
              "      }\n",
              "\n",
              "      .colab-df-generate:hover {\n",
              "        background-color: #E2EBFA;\n",
              "        box-shadow: 0px 1px 2px rgba(60, 64, 67, 0.3), 0px 1px 3px 1px rgba(60, 64, 67, 0.15);\n",
              "        fill: #174EA6;\n",
              "      }\n",
              "\n",
              "      [theme=dark] .colab-df-generate {\n",
              "        background-color: #3B4455;\n",
              "        fill: #D2E3FC;\n",
              "      }\n",
              "\n",
              "      [theme=dark] .colab-df-generate:hover {\n",
              "        background-color: #434B5C;\n",
              "        box-shadow: 0px 1px 3px 1px rgba(0, 0, 0, 0.15);\n",
              "        filter: drop-shadow(0px 1px 2px rgba(0, 0, 0, 0.3));\n",
              "        fill: #FFFFFF;\n",
              "      }\n",
              "    </style>\n",
              "    <button class=\"colab-df-generate\" onclick=\"generateWithVariable('dataset')\"\n",
              "            title=\"Generate code using this dataframe.\"\n",
              "            style=\"display:none;\">\n",
              "\n",
              "  <svg xmlns=\"http://www.w3.org/2000/svg\" height=\"24px\"viewBox=\"0 0 24 24\"\n",
              "       width=\"24px\">\n",
              "    <path d=\"M7,19H8.4L18.45,9,17,7.55,7,17.6ZM5,21V16.75L18.45,3.32a2,2,0,0,1,2.83,0l1.4,1.43a1.91,1.91,0,0,1,.58,1.4,1.91,1.91,0,0,1-.58,1.4L9.25,21ZM18.45,9,17,7.55Zm-12,3A5.31,5.31,0,0,0,4.9,8.1,5.31,5.31,0,0,0,1,6.5,5.31,5.31,0,0,0,4.9,4.9,5.31,5.31,0,0,0,6.5,1,5.31,5.31,0,0,0,8.1,4.9,5.31,5.31,0,0,0,12,6.5,5.46,5.46,0,0,0,6.5,12Z\"/>\n",
              "  </svg>\n",
              "    </button>\n",
              "    <script>\n",
              "      (() => {\n",
              "      const buttonEl =\n",
              "        document.querySelector('#id_cc4bb5ff-76bc-4eb7-a858-eb1a499d9388 button.colab-df-generate');\n",
              "      buttonEl.style.display =\n",
              "        google.colab.kernel.accessAllowed ? 'block' : 'none';\n",
              "\n",
              "      buttonEl.onclick = () => {\n",
              "        google.colab.notebook.generateWithVariable('dataset');\n",
              "      }\n",
              "      })();\n",
              "    </script>\n",
              "  </div>\n",
              "\n",
              "    </div>\n",
              "  </div>\n"
            ],
            "application/vnd.google.colaboratory.intrinsic+json": {
              "type": "dataframe",
              "variable_name": "dataset",
              "summary": "{\n  \"name\": \"dataset\",\n  \"rows\": 8,\n  \"fields\": [\n    {\n      \"column\": \"date\",\n      \"properties\": {\n        \"dtype\": \"date\",\n        \"min\": \"1950-02-01 00:00:00\",\n        \"max\": \"2017-02-01 00:00:00\",\n        \"num_unique_values\": 8,\n        \"samples\": [\n          \"1960-02-01 00:00:00\",\n          \"2000-02-01 00:00:00\",\n          \"1950-02-01 00:00:00\"\n        ],\n        \"semantic_type\": \"\",\n        \"description\": \"\"\n      }\n    },\n    {\n      \"column\": \"amount_of_precipitation\",\n      \"properties\": {\n        \"dtype\": \"number\",\n        \"std\": 0.45634416836418545,\n        \"min\": 0.0,\n        \"max\": 1.34,\n        \"num_unique_values\": 5,\n        \"samples\": [\n          0.15,\n          1.34,\n          0.37\n        ],\n        \"semantic_type\": \"\",\n        \"description\": \"\"\n      }\n    },\n    {\n      \"column\": \"max_temperature\",\n      \"properties\": {\n        \"dtype\": \"number\",\n        \"std\": 8,\n        \"min\": 27,\n        \"max\": 54,\n        \"num_unique_values\": 7,\n        \"samples\": [\n          27,\n          52,\n          49\n        ],\n        \"semantic_type\": \"\",\n        \"description\": \"\"\n      }\n    },\n    {\n      \"column\": \"min_temperature\",\n      \"properties\": {\n        \"dtype\": \"number\",\n        \"std\": 14,\n        \"min\": 1,\n        \"max\": 44,\n        \"num_unique_values\": 8,\n        \"samples\": [\n          44,\n          41,\n          1\n        ],\n        \"semantic_type\": \"\",\n        \"description\": \"\"\n      }\n    },\n    {\n      \"column\": \"rain\",\n      \"properties\": {\n        \"dtype\": \"category\",\n        \"num_unique_values\": 2,\n        \"samples\": [\n          true,\n          false\n        ],\n        \"semantic_type\": \"\",\n        \"description\": \"\"\n      }\n    },\n    {\n      \"column\": \"year\",\n      \"properties\": {\n        \"dtype\": \"number\",\n        \"std\": 23.89822169116355,\n        \"min\": 1950.0876112251883,\n        \"max\": 2017.0876112251883,\n        \"num_unique_values\": 8,\n        \"samples\": [\n          1960.0876112251883,\n          2000.0876112251883\n        ],\n        \"semantic_type\": \"\",\n        \"description\": \"\"\n      }\n    }\n  ]\n}"
            }
          },
          "metadata": {},
          "execution_count": 1
        }
      ],
      "source": [
        "import pandas\n",
        "!wget https://raw.githubusercontent.com/MicrosoftDocs/mslearn-introduction-to-machine-learning/main/microsoft_custom_linear_regressor.py\n",
        "!wget https://raw.githubusercontent.com/MicrosoftDocs/mslearn-introduction-to-machine-learning/main/Data/seattleWeather_1948-2017.csv\n",
        "from datetime import datetime\n",
        "\n",
        "# Load a file that contains our weather data\n",
        "dataset = pandas.read_csv('seattleWeather_1948-2017.csv', parse_dates=['date'])\n",
        "\n",
        "# Convert the dates into numbers so we can use them in our models\n",
        "# We make a year column that can contain fractions. For example,\n",
        "# 1948.5 is halfway through the year 1948\n",
        "dataset[\"year\"] = [(d.year + d.timetuple().tm_yday / 365.25) for d in dataset.date]\n",
        "\n",
        "\n",
        "# For the sake of this exercise, let's look at February 1 for the following years:\n",
        "desired_dates = [\n",
        "    datetime(1950,2,1),\n",
        "    datetime(1960,2,1),\n",
        "    datetime(1970,2,1),\n",
        "    datetime(1980,2,1),\n",
        "    datetime(1990,2,1),\n",
        "    datetime(2000,2,1),\n",
        "    datetime(2010,2,1),\n",
        "    datetime(2017,2,1),\n",
        "]\n",
        "\n",
        "dataset = dataset[dataset.date.isin(desired_dates)].copy()\n",
        "\n",
        "# Print the dataset\n",
        "dataset\n"
      ]
    },
    {
      "cell_type": "markdown",
      "source": [
        "**Comparing two cost functions**\n",
        "\n",
        "Let's compare two common cost functions: the sum of squared differences **(SSD)** and the sum of absolute differences **(SAD)**. They both calculate the difference between each predicted value and the expected value. The distinction is simply:\n",
        "\n",
        "SSD squares that difference and sums the result.\n",
        "\n",
        "SAD converts differences into absolute differences and then sums them.\n",
        "\n",
        "To see these cost functions in action, we need to first implement them:"
      ],
      "metadata": {
        "id": "fYqXeM4Qf9Dc"
      }
    },
    {
      "cell_type": "code",
      "source": [
        "import numpy\n",
        "\n",
        "def sum_of_square_differences(estimate, actual):\n",
        "    # Note that with NumPy, to square each value we use **\n",
        "    return numpy.sum((estimate - actual)**2)\n",
        "\n",
        "def sum_of_absolute_differences(estimate, actual):\n",
        "    return numpy.sum(numpy.abs(estimate - actual))"
      ],
      "metadata": {
        "id": "hI3LlJFlfdnz"
      },
      "execution_count": 2,
      "outputs": []
    },
    {
      "cell_type": "markdown",
      "source": [
        "They're very similar. How do they behave? Let's test with some fake model estimates.\n",
        "\n",
        "Let's say that the correct answers are 1 and 3, but the model estimates 2 and 2:"
      ],
      "metadata": {
        "id": "cj3XCSSeg743"
      }
    },
    {
      "cell_type": "code",
      "source": [
        "actual_label = numpy.array([1, 3])\n",
        "model_estimate = numpy.array([2, 2])\n",
        "\n",
        "print(\"SSD:\", sum_of_square_differences(model_estimate, actual_label))\n",
        "print(\"SAD:\", sum_of_absolute_differences(model_estimate, actual_label))"
      ],
      "metadata": {
        "colab": {
          "base_uri": "https://localhost:8080/"
        },
        "id": "8QsTyFs5gXuv",
        "outputId": "37745901-1e82-4def-849d-63066dc973ae"
      },
      "execution_count": 3,
      "outputs": [
        {
          "output_type": "stream",
          "name": "stdout",
          "text": [
            "SSD: 2\n",
            "SAD: 2\n"
          ]
        }
      ]
    },
    {
      "cell_type": "markdown",
      "source": [
        "We have an error of 1 for each estimate, and both methods have returned the same error.\n",
        "\n",
        "What happens if we distribute these errors differently? Let's pretend that we estimated the first value perfectly, but were off by 2 for the second value:"
      ],
      "metadata": {
        "id": "6-rQfJK1hK3G"
      }
    },
    {
      "cell_type": "code",
      "source": [
        "actual_label = numpy.array([1, 3])\n",
        "model_estimate = numpy.array([1, 1])\n",
        "\n",
        "print(\"SSD:\", sum_of_square_differences(model_estimate, actual_label))\n",
        "print(\"SAD:\", sum_of_absolute_differences(model_estimate, actual_label))"
      ],
      "metadata": {
        "colab": {
          "base_uri": "https://localhost:8080/"
        },
        "id": "YafCPKmig_SM",
        "outputId": "c0b460f6-3ba2-40f8-8225-04b35c7a8c47"
      },
      "execution_count": 4,
      "outputs": [
        {
          "output_type": "stream",
          "name": "stdout",
          "text": [
            "SSD: 4\n",
            "SAD: 2\n"
          ]
        }
      ]
    },
    {
      "cell_type": "markdown",
      "source": [
        "SAD has calculated the same cost as before, because the average error is still the same (1 + 1 = 0 + 2). According to SAD, the first and second set of estimates were equally good.\n",
        "\n",
        "By contrast, SSD has given a higher (worse) cost for the second set of estimates ( 1\n",
        "2\n",
        " +1\n",
        "2\n",
        " <0\n",
        "2\n",
        " +2\n",
        "2\n",
        "  ). When we use SSD, we encourage models to be both accurate and consistent in their accuracy."
      ],
      "metadata": {
        "id": "Mm8_SEVuikeW"
      }
    },
    {
      "cell_type": "markdown",
      "source": [
        "**Differences in action**\n",
        "\n",
        "Let's compare how our two cost functions affect model fitting.\n",
        "\n",
        "First, fit a model by using the SSD cost function:"
      ],
      "metadata": {
        "id": "Bk1m8bPRiwQt"
      }
    },
    {
      "cell_type": "code",
      "source": [
        "from microsoft_custom_linear_regressor import MicrosoftCustomLinearRegressor\n",
        "import matplotlib.pyplot as plt\n",
        "\n",
        "# Create and fit the model\n",
        "# We use a custom object that we've hidden from this notebook, because\n",
        "# you don't need to understand its details. This fits a linear model\n",
        "# by using a provided cost function\n",
        "\n",
        "# Fit a model by using sum of square differences\n",
        "model = MicrosoftCustomLinearRegressor().fit(X = dataset.year,\n",
        "                                             y = dataset.min_temperature,\n",
        "                                             cost_function = sum_of_square_differences)\n",
        "\n",
        "# Graph the model\n",
        "plt.scatter(dataset[\"year\"], dataset[\"min_temperature\"])\n",
        "plt.plot(dataset[\"year\"], model.predict(dataset[\"year\"]), 'r', label='Fitted line')\n",
        "\n",
        "\n",
        "# add labels and legend\n",
        "plt.xlabel(\"year\")\n",
        "plt.ylabel(\"min_temperature\")\n",
        "plt.legend()"
      ],
      "metadata": {
        "colab": {
          "base_uri": "https://localhost:8080/",
          "height": 467
        },
        "id": "qOlA-ccfhYAZ",
        "outputId": "38d080f1-0ff5-4cde-8614-5879fbabf9ce"
      },
      "execution_count": 5,
      "outputs": [
        {
          "output_type": "execute_result",
          "data": {
            "text/plain": [
              "<matplotlib.legend.Legend at 0x79c07a6c8950>"
            ]
          },
          "metadata": {},
          "execution_count": 5
        },
        {
          "output_type": "display_data",
          "data": {
            "text/plain": [
              "<Figure size 640x480 with 1 Axes>"
            ],
            "image/png": "[encoded data removed]"
          },
          "metadata": {}
        }
      ]
    },
    {
      "cell_type": "markdown",
      "source": [
        "Our SSD method normally does well, but here it did a poor job. The line is a far distance from the values for many years. Why? Notice that the datapoint at the lower left doesn't seem to follow the trend of the other datapoints. 1950 was a very cold winter in Seattle, and this datapoint is strongly influencing our final model (the red line). What happens if we change the cost function?"
      ],
      "metadata": {
        "id": "gUDoHdHmjk5a"
      }
    },
    {
      "cell_type": "markdown",
      "source": [
        "**Sum of absolute differences**\n",
        "\n",
        "Let's repeat what we've just done, but using SAD."
      ],
      "metadata": {
        "id": "KDbEUvd9jqeG"
      }
    },
    {
      "cell_type": "code",
      "source": [
        "# Fit a model with SAD\n",
        "# Fit a model by using sum of absolute differences\n",
        "model = MicrosoftCustomLinearRegressor().fit(X = dataset.year,\n",
        "                                             y = dataset.min_temperature,\n",
        "                                             cost_function = sum_of_absolute_differences)\n",
        "\n",
        "# Graph the model\n",
        "plt.scatter(dataset[\"year\"], dataset[\"min_temperature\"])\n",
        "plt.plot(dataset[\"year\"], model.predict(dataset[\"year\"]), 'r', label='Fitted line')\n",
        "\n",
        "\n",
        "# add labels and legend\n",
        "plt.xlabel(\"year\")\n",
        "plt.ylabel(\"min_temperature\")\n",
        "plt.legend()\n"
      ],
      "metadata": {
        "colab": {
          "base_uri": "https://localhost:8080/",
          "height": 467
        },
        "id": "CPhw0Uggi0s0",
        "outputId": "db7ec85c-e0cd-4da5-ceb9-0b4b5484811d"
      },
      "execution_count": 6,
      "outputs": [
        {
          "output_type": "execute_result",
          "data": {
            "text/plain": [
              "<matplotlib.legend.Legend at 0x79c078ba7190>"
            ]
          },
          "metadata": {},
          "execution_count": 6
        },
        {
          "output_type": "display_data",
          "data": {
            "text/plain": [
              "<Figure size 640x480 with 1 Axes>"
            ],
            "image/png": "[encoded data removed]"
          },
          "metadata": {}
        }
      ]
    },
    {
      "cell_type": "markdown",
      "source": [
        "It's clear that this line passes through the majority of points much better than before, at the expense of almost ignoring the measurement taken in 1950.\n",
        "\n",
        "In our farming scenario, we're interested in how average temperatures are changing over time. We don't have much interest in 1950 specifically, so for us, this is a better result. In other situations, of course, we might consider this result worse."
      ],
      "metadata": {
        "id": "ShJ4firvkGPq"
      }
    },
    {
      "cell_type": "markdown",
      "source": [
        "It's clear that this line passes through the majority of points much better than before, at the expense of almost ignoring the measurement taken in 1950.\n",
        "\n",
        "In our farming scenario, we're interested in how average temperatures are changing over time. We don't have much interest in 1950 specifically, so for us, this is a better result. In other situations, of course, we might consider this result worse."
      ],
      "metadata": {
        "id": "EGZwNihskW7M"
      }
    },
    {
      "cell_type": "code",
      "source": [],
      "metadata": {
        "id": "UIbTZNEVjuR7"
      },
      "execution_count": null,
      "outputs": []
    }
  ]
}